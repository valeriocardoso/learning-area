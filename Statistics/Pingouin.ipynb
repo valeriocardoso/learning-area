{
  "nbformat": 4,
  "nbformat_minor": 0,
  "metadata": {
    "colab": {
      "name": "Pingouin",
      "provenance": [],
      "collapsed_sections": [],
      "authorship_tag": "ABX9TyOik73j7PDp9ITm7EKinr+/",
      "include_colab_link": true
    },
    "kernelspec": {
      "name": "python3",
      "display_name": "Python 3"
    }
  },
  "cells": [
    {
      "cell_type": "markdown",
      "metadata": {
        "id": "view-in-github",
        "colab_type": "text"
      },
      "source": [
        "<a href=\"https://colab.research.google.com/github/valeriocardoso/learning-area/blob/master/Statistics/Pingouin.ipynb\" target=\"_parent\"><img src=\"https://colab.research.google.com/assets/colab-badge.svg\" alt=\"Open In Colab\"/></a>"
      ]
    },
    {
      "cell_type": "code",
      "metadata": {
        "id": "ySeQA0-Lllx-",
        "colab_type": "code",
        "colab": {
          "base_uri": "https://localhost:8080/",
          "height": 935
        },
        "outputId": "4e8c3422-6522-4a49-de29-8d0da765729d"
      },
      "source": [
        "!pip install pingouin"
      ],
      "execution_count": 1,
      "outputs": [
        {
          "output_type": "stream",
          "text": [
            "Collecting pingouin\n",
            "\u001b[?25l  Downloading https://files.pythonhosted.org/packages/fc/8f/8204d5e8365b687a77e44e4fd9dd3b0c6b735b4aa63404a65d32d09dd7c3/pingouin-0.3.7.tar.gz (218kB)\n",
            "\r\u001b[K     |█▌                              | 10kB 18.8MB/s eta 0:00:01\r\u001b[K     |███                             | 20kB 1.7MB/s eta 0:00:01\r\u001b[K     |████▌                           | 30kB 2.2MB/s eta 0:00:01\r\u001b[K     |██████                          | 40kB 2.5MB/s eta 0:00:01\r\u001b[K     |███████▌                        | 51kB 2.0MB/s eta 0:00:01\r\u001b[K     |█████████                       | 61kB 2.3MB/s eta 0:00:01\r\u001b[K     |██████████▌                     | 71kB 2.5MB/s eta 0:00:01\r\u001b[K     |████████████                    | 81kB 2.7MB/s eta 0:00:01\r\u001b[K     |█████████████▌                  | 92kB 2.9MB/s eta 0:00:01\r\u001b[K     |███████████████                 | 102kB 2.8MB/s eta 0:00:01\r\u001b[K     |████████████████▌               | 112kB 2.8MB/s eta 0:00:01\r\u001b[K     |██████████████████              | 122kB 2.8MB/s eta 0:00:01\r\u001b[K     |███████████████████▌            | 133kB 2.8MB/s eta 0:00:01\r\u001b[K     |█████████████████████           | 143kB 2.8MB/s eta 0:00:01\r\u001b[K     |██████████████████████▌         | 153kB 2.8MB/s eta 0:00:01\r\u001b[K     |████████████████████████        | 163kB 2.8MB/s eta 0:00:01\r\u001b[K     |█████████████████████████▌      | 174kB 2.8MB/s eta 0:00:01\r\u001b[K     |███████████████████████████     | 184kB 2.8MB/s eta 0:00:01\r\u001b[K     |████████████████████████████▌   | 194kB 2.8MB/s eta 0:00:01\r\u001b[K     |██████████████████████████████  | 204kB 2.8MB/s eta 0:00:01\r\u001b[K     |███████████████████████████████▌| 215kB 2.8MB/s eta 0:00:01\r\u001b[K     |████████████████████████████████| 225kB 2.8MB/s \n",
            "\u001b[?25hRequirement already satisfied: numpy>=1.15 in /usr/local/lib/python3.6/dist-packages (from pingouin) (1.18.5)\n",
            "Collecting scipy>=1.3\n",
            "\u001b[?25l  Downloading https://files.pythonhosted.org/packages/2b/a8/f4c66eb529bb252d50e83dbf2909c6502e2f857550f22571ed8556f62d95/scipy-1.5.2-cp36-cp36m-manylinux1_x86_64.whl (25.9MB)\n",
            "\u001b[K     |████████████████████████████████| 25.9MB 169kB/s \n",
            "\u001b[?25hRequirement already satisfied: pandas>=0.24 in /usr/local/lib/python3.6/dist-packages (from pingouin) (0.25.3)\n",
            "Requirement already satisfied: matplotlib>=3.0.2 in /usr/local/lib/python3.6/dist-packages (from pingouin) (3.2.2)\n",
            "Requirement already satisfied: seaborn>=0.9.0 in /usr/local/lib/python3.6/dist-packages (from pingouin) (0.10.1)\n",
            "Requirement already satisfied: statsmodels>=0.10.0 in /usr/local/lib/python3.6/dist-packages (from pingouin) (0.10.2)\n",
            "Requirement already satisfied: scikit-learn in /usr/local/lib/python3.6/dist-packages (from pingouin) (0.21.3)\n",
            "Collecting pandas_flavor>=0.1.2\n",
            "  Downloading https://files.pythonhosted.org/packages/9a/57/7fbcff4c0961ed190ac5fcb0bd8194152ee1ee6487edf64fdbae16e2bc4b/pandas_flavor-0.2.0-py2.py3-none-any.whl\n",
            "Collecting outdated\n",
            "  Downloading https://files.pythonhosted.org/packages/86/70/2f166266438a30e94140f00c99c0eac1c45807981052a1d4c123660e1323/outdated-0.2.0.tar.gz\n",
            "Requirement already satisfied: tabulate in /usr/local/lib/python3.6/dist-packages (from pingouin) (0.8.7)\n",
            "Requirement already satisfied: pytz>=2017.2 in /usr/local/lib/python3.6/dist-packages (from pandas>=0.24->pingouin) (2018.9)\n",
            "Requirement already satisfied: python-dateutil>=2.6.1 in /usr/local/lib/python3.6/dist-packages (from pandas>=0.24->pingouin) (2.8.1)\n",
            "Requirement already satisfied: pyparsing!=2.0.4,!=2.1.2,!=2.1.6,>=2.0.1 in /usr/local/lib/python3.6/dist-packages (from matplotlib>=3.0.2->pingouin) (2.4.7)\n",
            "Requirement already satisfied: cycler>=0.10 in /usr/local/lib/python3.6/dist-packages (from matplotlib>=3.0.2->pingouin) (0.10.0)\n",
            "Requirement already satisfied: kiwisolver>=1.0.1 in /usr/local/lib/python3.6/dist-packages (from matplotlib>=3.0.2->pingouin) (1.2.0)\n",
            "Requirement already satisfied: patsy>=0.4.0 in /usr/local/lib/python3.6/dist-packages (from statsmodels>=0.10.0->pingouin) (0.5.1)\n",
            "Requirement already satisfied: joblib>=0.11 in /usr/local/lib/python3.6/dist-packages (from scikit-learn->pingouin) (0.16.0)\n",
            "Requirement already satisfied: xarray in /usr/local/lib/python3.6/dist-packages (from pandas_flavor>=0.1.2->pingouin) (0.15.1)\n",
            "Collecting littleutils\n",
            "  Downloading https://files.pythonhosted.org/packages/4e/b1/bb4e06f010947d67349f863b6a2ad71577f85590180a935f60543f622652/littleutils-0.2.2.tar.gz\n",
            "Requirement already satisfied: requests in /usr/local/lib/python3.6/dist-packages (from outdated->pingouin) (2.23.0)\n",
            "Requirement already satisfied: six>=1.5 in /usr/local/lib/python3.6/dist-packages (from python-dateutil>=2.6.1->pandas>=0.24->pingouin) (1.15.0)\n",
            "Requirement already satisfied: setuptools>=41.2 in /usr/local/lib/python3.6/dist-packages (from xarray->pandas_flavor>=0.1.2->pingouin) (49.2.0)\n",
            "Requirement already satisfied: urllib3!=1.25.0,!=1.25.1,<1.26,>=1.21.1 in /usr/local/lib/python3.6/dist-packages (from requests->outdated->pingouin) (1.24.3)\n",
            "Requirement already satisfied: idna<3,>=2.5 in /usr/local/lib/python3.6/dist-packages (from requests->outdated->pingouin) (2.10)\n",
            "Requirement already satisfied: certifi>=2017.4.17 in /usr/local/lib/python3.6/dist-packages (from requests->outdated->pingouin) (2020.6.20)\n",
            "Requirement already satisfied: chardet<4,>=3.0.2 in /usr/local/lib/python3.6/dist-packages (from requests->outdated->pingouin) (3.0.4)\n",
            "Building wheels for collected packages: pingouin, outdated, littleutils\n",
            "  Building wheel for pingouin (setup.py) ... \u001b[?25l\u001b[?25hdone\n",
            "  Created wheel for pingouin: filename=pingouin-0.3.7-cp36-none-any.whl size=217260 sha256=57aa55cdf0e8651308fe50f18cf82d50a4024b9f2c02ce8fcc56ecb702123146\n",
            "  Stored in directory: /root/.cache/pip/wheels/02/92/32/0ed9ac4a9407227f3f070170a26d05f07d6f2a8a68989a8ac3\n",
            "  Building wheel for outdated (setup.py) ... \u001b[?25l\u001b[?25hdone\n",
            "  Created wheel for outdated: filename=outdated-0.2.0-cp36-none-any.whl size=4962 sha256=e4ead92a625244173d1b9be43e3bbb676c7a60af8efff338d6ac431aef4c40c4\n",
            "  Stored in directory: /root/.cache/pip/wheels/fd/7c/ef/814f514d31197310872b5abf353feb8fef9d67ee658e1e7e39\n",
            "  Building wheel for littleutils (setup.py) ... \u001b[?25l\u001b[?25hdone\n",
            "  Created wheel for littleutils: filename=littleutils-0.2.2-cp36-none-any.whl size=7049 sha256=a50d08437da9a3299221f87ee20573ca8f0e38fbf841a508d66aee474cf575ce\n",
            "  Stored in directory: /root/.cache/pip/wheels/53/16/9f/ac67d15c40243754fd73f620e1b9b6dedc20492ecc19a2bae1\n",
            "Successfully built pingouin outdated littleutils\n",
            "\u001b[31mERROR: tensorflow 2.3.0 has requirement scipy==1.4.1, but you'll have scipy 1.5.2 which is incompatible.\u001b[0m\n",
            "\u001b[31mERROR: tensorflow 2.3.0 has requirement tensorboard<3,>=2.3.0, but you'll have tensorboard 1.15.0 which is incompatible.\u001b[0m\n",
            "\u001b[31mERROR: causalnex 0.7.0 has requirement scipy<1.3,>=1.2.0, but you'll have scipy 1.5.2 which is incompatible.\u001b[0m\n",
            "\u001b[31mERROR: albumentations 0.1.12 has requirement imgaug<0.2.7,>=0.2.5, but you'll have imgaug 0.2.9 which is incompatible.\u001b[0m\n",
            "Installing collected packages: scipy, pandas-flavor, littleutils, outdated, pingouin\n",
            "  Found existing installation: scipy 1.2.3\n",
            "    Uninstalling scipy-1.2.3:\n",
            "      Successfully uninstalled scipy-1.2.3\n",
            "Successfully installed littleutils-0.2.2 outdated-0.2.0 pandas-flavor-0.2.0 pingouin-0.3.7 scipy-1.5.2\n"
          ],
          "name": "stdout"
        }
      ]
    },
    {
      "cell_type": "code",
      "metadata": {
        "id": "gOgCCd8qlOF9",
        "colab_type": "code",
        "colab": {}
      },
      "source": [
        "import numpy as np\n",
        "import pingouin as pg"
      ],
      "execution_count": 3,
      "outputs": []
    },
    {
      "cell_type": "code",
      "metadata": {
        "id": "3aVGXpbelLz7",
        "colab_type": "code",
        "colab": {
          "base_uri": "https://localhost:8080/",
          "height": 80
        },
        "outputId": "a2c51bca-4b71-4cff-d3e2-e36e3beff64e"
      },
      "source": [
        "np.random.seed(123)\n",
        "mean, cov, n = [4, 5], [(1, .6), (.6, 1)], 30\n",
        "x, y = np.random.multivariate_normal(mean, cov, n).T\n",
        "\n",
        "# T-test\n",
        "pg.ttest(x, y)"
      ],
      "execution_count": 5,
      "outputs": [
        {
          "output_type": "execute_result",
          "data": {
            "text/html": [
              "<div>\n",
              "<style scoped>\n",
              "    .dataframe tbody tr th:only-of-type {\n",
              "        vertical-align: middle;\n",
              "    }\n",
              "\n",
              "    .dataframe tbody tr th {\n",
              "        vertical-align: top;\n",
              "    }\n",
              "\n",
              "    .dataframe thead th {\n",
              "        text-align: right;\n",
              "    }\n",
              "</style>\n",
              "<table border=\"1\" class=\"dataframe\">\n",
              "  <thead>\n",
              "    <tr style=\"text-align: right;\">\n",
              "      <th></th>\n",
              "      <th>T</th>\n",
              "      <th>dof</th>\n",
              "      <th>tail</th>\n",
              "      <th>p-val</th>\n",
              "      <th>CI95%</th>\n",
              "      <th>cohen-d</th>\n",
              "      <th>BF10</th>\n",
              "      <th>power</th>\n",
              "    </tr>\n",
              "  </thead>\n",
              "  <tbody>\n",
              "    <tr>\n",
              "      <th>T-test</th>\n",
              "      <td>-3.400706</td>\n",
              "      <td>58</td>\n",
              "      <td>two-sided</td>\n",
              "      <td>0.001222</td>\n",
              "      <td>[-1.68, -0.43]</td>\n",
              "      <td>0.878059</td>\n",
              "      <td>26.155</td>\n",
              "      <td>0.916807</td>\n",
              "    </tr>\n",
              "  </tbody>\n",
              "</table>\n",
              "</div>"
            ],
            "text/plain": [
              "               T  dof       tail  ...   cohen-d    BF10     power\n",
              "T-test -3.400706   58  two-sided  ...  0.878059  26.155  0.916807\n",
              "\n",
              "[1 rows x 8 columns]"
            ]
          },
          "metadata": {
            "tags": []
          },
          "execution_count": 5
        }
      ]
    },
    {
      "cell_type": "code",
      "metadata": {
        "id": "G2UY705LlMi0",
        "colab_type": "code",
        "colab": {
          "base_uri": "https://localhost:8080/",
          "height": 80
        },
        "outputId": "85170703-25a6-4d8a-afc9-6f055b6d6be8"
      },
      "source": [
        "pg.corr(x, y)"
      ],
      "execution_count": 6,
      "outputs": [
        {
          "output_type": "execute_result",
          "data": {
            "text/html": [
              "<div>\n",
              "<style scoped>\n",
              "    .dataframe tbody tr th:only-of-type {\n",
              "        vertical-align: middle;\n",
              "    }\n",
              "\n",
              "    .dataframe tbody tr th {\n",
              "        vertical-align: top;\n",
              "    }\n",
              "\n",
              "    .dataframe thead th {\n",
              "        text-align: right;\n",
              "    }\n",
              "</style>\n",
              "<table border=\"1\" class=\"dataframe\">\n",
              "  <thead>\n",
              "    <tr style=\"text-align: right;\">\n",
              "      <th></th>\n",
              "      <th>n</th>\n",
              "      <th>r</th>\n",
              "      <th>CI95%</th>\n",
              "      <th>r2</th>\n",
              "      <th>adj_r2</th>\n",
              "      <th>p-val</th>\n",
              "      <th>BF10</th>\n",
              "      <th>power</th>\n",
              "    </tr>\n",
              "  </thead>\n",
              "  <tbody>\n",
              "    <tr>\n",
              "      <th>pearson</th>\n",
              "      <td>30</td>\n",
              "      <td>0.594785</td>\n",
              "      <td>[0.3, 0.79]</td>\n",
              "      <td>0.353769</td>\n",
              "      <td>0.3059</td>\n",
              "      <td>0.000527</td>\n",
              "      <td>69.723</td>\n",
              "      <td>0.950373</td>\n",
              "    </tr>\n",
              "  </tbody>\n",
              "</table>\n",
              "</div>"
            ],
            "text/plain": [
              "          n         r        CI95%  ...     p-val    BF10     power\n",
              "pearson  30  0.594785  [0.3, 0.79]  ...  0.000527  69.723  0.950373\n",
              "\n",
              "[1 rows x 8 columns]"
            ]
          },
          "metadata": {
            "tags": []
          },
          "execution_count": 6
        }
      ]
    },
    {
      "cell_type": "code",
      "metadata": {
        "id": "us-J7OHTlNjW",
        "colab_type": "code",
        "colab": {
          "base_uri": "https://localhost:8080/",
          "height": 80
        },
        "outputId": "05f7709f-f402-46cd-ce32-7fc47af7dd90"
      },
      "source": [
        "# Introduce an outlier\n",
        "x[5] = 18\n",
        "# Use the robust Shepherd's pi correlation\n",
        "pg.corr(x, y, method=\"shepherd\")"
      ],
      "execution_count": 7,
      "outputs": [
        {
          "output_type": "execute_result",
          "data": {
            "text/html": [
              "<div>\n",
              "<style scoped>\n",
              "    .dataframe tbody tr th:only-of-type {\n",
              "        vertical-align: middle;\n",
              "    }\n",
              "\n",
              "    .dataframe tbody tr th {\n",
              "        vertical-align: top;\n",
              "    }\n",
              "\n",
              "    .dataframe thead th {\n",
              "        text-align: right;\n",
              "    }\n",
              "</style>\n",
              "<table border=\"1\" class=\"dataframe\">\n",
              "  <thead>\n",
              "    <tr style=\"text-align: right;\">\n",
              "      <th></th>\n",
              "      <th>n</th>\n",
              "      <th>outliers</th>\n",
              "      <th>r</th>\n",
              "      <th>CI95%</th>\n",
              "      <th>r2</th>\n",
              "      <th>adj_r2</th>\n",
              "      <th>p-val</th>\n",
              "      <th>power</th>\n",
              "    </tr>\n",
              "  </thead>\n",
              "  <tbody>\n",
              "    <tr>\n",
              "      <th>shepherd</th>\n",
              "      <td>30</td>\n",
              "      <td>1</td>\n",
              "      <td>0.561084</td>\n",
              "      <td>[0.25, 0.77]</td>\n",
              "      <td>0.314815</td>\n",
              "      <td>0.264061</td>\n",
              "      <td>0.001543</td>\n",
              "      <td>0.916576</td>\n",
              "    </tr>\n",
              "  </tbody>\n",
              "</table>\n",
              "</div>"
            ],
            "text/plain": [
              "           n  outliers         r  ...    adj_r2     p-val     power\n",
              "shepherd  30         1  0.561084  ...  0.264061  0.001543  0.916576\n",
              "\n",
              "[1 rows x 8 columns]"
            ]
          },
          "metadata": {
            "tags": []
          },
          "execution_count": 7
        }
      ]
    },
    {
      "cell_type": "code",
      "metadata": {
        "id": "_9biS1u-myIu",
        "colab_type": "code",
        "colab": {
          "base_uri": "https://localhost:8080/",
          "height": 68
        },
        "outputId": "793c2032-12db-436d-e61b-51d2e25d291e"
      },
      "source": [
        "print(pg.normality(x))                                    # Univariate normality\n",
        "print(pg.multivariate_normality(np.column_stack((x, y)))) # Multivariate normality"
      ],
      "execution_count": 8,
      "outputs": [
        {
          "output_type": "stream",
          "text": [
            "          W          pval  normal\n",
            "0  0.615321  1.128503e-07   False\n",
            "(False, 0.00018201726664169923)\n"
          ],
          "name": "stdout"
        }
      ]
    },
    {
      "cell_type": "code",
      "metadata": {
        "id": "uIvkwoeUm0ey",
        "colab_type": "code",
        "colab": {
          "base_uri": "https://localhost:8080/",
          "height": 295
        },
        "outputId": "8969b74c-d8a5-4796-8db8-d5956a1ff042"
      },
      "source": [
        "import numpy as np\n",
        "import pingouin as pg\n",
        "np.random.seed(123)\n",
        "x = np.random.normal(size=50)\n",
        "ax = pg.qqplot(x, dist='norm')"
      ],
      "execution_count": 9,
      "outputs": [
        {
          "output_type": "display_data",
          "data": {
            "image/png": "[encoded data removed]",
            "text/plain": [
              "<Figure size 360x288 with 1 Axes>"
            ]
          },
          "metadata": {
            "tags": [],
            "needs_background": "light"
          }
        }
      ]
    },
    {
      "cell_type": "code",
      "metadata": {
        "id": "wBM45zc7m3hS",
        "colab_type": "code",
        "colab": {
          "base_uri": "https://localhost:8080/",
          "height": 111
        },
        "outputId": "cd991c2e-74df-4e29-ca04-64ddb2eaf41f"
      },
      "source": [
        "# Read an example dataset\n",
        "df = pg.read_dataset('mixed_anova')\n",
        "\n",
        "# Run the ANOVA\n",
        "aov = pg.anova(data=df, dv='Scores', between='Group', detailed=True)\n",
        "aov"
      ],
      "execution_count": 11,
      "outputs": [
        {
          "output_type": "execute_result",
          "data": {
            "text/html": [
              "<div>\n",
              "<style scoped>\n",
              "    .dataframe tbody tr th:only-of-type {\n",
              "        vertical-align: middle;\n",
              "    }\n",
              "\n",
              "    .dataframe tbody tr th {\n",
              "        vertical-align: top;\n",
              "    }\n",
              "\n",
              "    .dataframe thead th {\n",
              "        text-align: right;\n",
              "    }\n",
              "</style>\n",
              "<table border=\"1\" class=\"dataframe\">\n",
              "  <thead>\n",
              "    <tr style=\"text-align: right;\">\n",
              "      <th></th>\n",
              "      <th>Source</th>\n",
              "      <th>SS</th>\n",
              "      <th>DF</th>\n",
              "      <th>MS</th>\n",
              "      <th>F</th>\n",
              "      <th>p-unc</th>\n",
              "      <th>np2</th>\n",
              "    </tr>\n",
              "  </thead>\n",
              "  <tbody>\n",
              "    <tr>\n",
              "      <th>0</th>\n",
              "      <td>Group</td>\n",
              "      <td>5.459963</td>\n",
              "      <td>1</td>\n",
              "      <td>5.459963</td>\n",
              "      <td>5.243656</td>\n",
              "      <td>0.0232</td>\n",
              "      <td>0.028616</td>\n",
              "    </tr>\n",
              "    <tr>\n",
              "      <th>1</th>\n",
              "      <td>Within</td>\n",
              "      <td>185.342729</td>\n",
              "      <td>178</td>\n",
              "      <td>1.041251</td>\n",
              "      <td>NaN</td>\n",
              "      <td>NaN</td>\n",
              "      <td>NaN</td>\n",
              "    </tr>\n",
              "  </tbody>\n",
              "</table>\n",
              "</div>"
            ],
            "text/plain": [
              "   Source          SS   DF        MS         F   p-unc       np2\n",
              "0   Group    5.459963    1  5.459963  5.243656  0.0232  0.028616\n",
              "1  Within  185.342729  178  1.041251       NaN     NaN       NaN"
            ]
          },
          "metadata": {
            "tags": []
          },
          "execution_count": 11
        }
      ]
    },
    {
      "cell_type": "code",
      "metadata": {
        "id": "Y71G_KpOm6pG",
        "colab_type": "code",
        "colab": {
          "base_uri": "https://localhost:8080/",
          "height": 111
        },
        "outputId": "6fd87673-92e2-4a62-8685-9e7e1664096d"
      },
      "source": [
        "pg.rm_anova(data=df, dv='Scores', within='Time', subject='Subject', detailed=True)"
      ],
      "execution_count": 12,
      "outputs": [
        {
          "output_type": "execute_result",
          "data": {
            "text/html": [
              "<div>\n",
              "<style scoped>\n",
              "    .dataframe tbody tr th:only-of-type {\n",
              "        vertical-align: middle;\n",
              "    }\n",
              "\n",
              "    .dataframe tbody tr th {\n",
              "        vertical-align: top;\n",
              "    }\n",
              "\n",
              "    .dataframe thead th {\n",
              "        text-align: right;\n",
              "    }\n",
              "</style>\n",
              "<table border=\"1\" class=\"dataframe\">\n",
              "  <thead>\n",
              "    <tr style=\"text-align: right;\">\n",
              "      <th></th>\n",
              "      <th>Source</th>\n",
              "      <th>SS</th>\n",
              "      <th>DF</th>\n",
              "      <th>MS</th>\n",
              "      <th>F</th>\n",
              "      <th>p-unc</th>\n",
              "      <th>np2</th>\n",
              "      <th>eps</th>\n",
              "    </tr>\n",
              "  </thead>\n",
              "  <tbody>\n",
              "    <tr>\n",
              "      <th>0</th>\n",
              "      <td>Time</td>\n",
              "      <td>7.628428</td>\n",
              "      <td>2</td>\n",
              "      <td>3.814214</td>\n",
              "      <td>3.912796</td>\n",
              "      <td>0.022629</td>\n",
              "      <td>0.062194</td>\n",
              "      <td>0.998751</td>\n",
              "    </tr>\n",
              "    <tr>\n",
              "      <th>1</th>\n",
              "      <td>Error</td>\n",
              "      <td>115.027023</td>\n",
              "      <td>118</td>\n",
              "      <td>0.974805</td>\n",
              "      <td>NaN</td>\n",
              "      <td>NaN</td>\n",
              "      <td>NaN</td>\n",
              "      <td>NaN</td>\n",
              "    </tr>\n",
              "  </tbody>\n",
              "</table>\n",
              "</div>"
            ],
            "text/plain": [
              "  Source          SS   DF        MS         F     p-unc       np2       eps\n",
              "0   Time    7.628428    2  3.814214  3.912796  0.022629  0.062194  0.998751\n",
              "1  Error  115.027023  118  0.974805       NaN       NaN       NaN       NaN"
            ]
          },
          "metadata": {
            "tags": []
          },
          "execution_count": 12
        }
      ]
    },
    {
      "cell_type": "code",
      "metadata": {
        "id": "rrImRkTpnAtU",
        "colab_type": "code",
        "colab": {
          "base_uri": "https://localhost:8080/",
          "height": 204
        },
        "outputId": "3e75fadc-3f44-48b6-ec91-19575f144480"
      },
      "source": [
        "# FDR-corrected post hocs with Hedges'g effect size\n",
        "posthoc = pg.pairwise_ttests(data=df, dv='Scores', within='Time', subject='Subject',\n",
        "                             parametric=True, padjust='fdr_bh', effsize='hedges')\n",
        "\n",
        "# Pretty printing of table\n",
        "pg.print_table(posthoc, floatfmt='.3f')"
      ],
      "execution_count": 13,
      "outputs": [
        {
          "output_type": "stream",
          "text": [
            "\n",
            "==============\n",
            "POST HOC TESTS\n",
            "==============\n",
            "\n",
            "Contrast    A        B        Paired    Parametric         T     dof  Tail         p-unc    p-corr  p-adjust      BF10    hedges\n",
            "----------  -------  -------  --------  ------------  ------  ------  ---------  -------  --------  ----------  ------  --------\n",
            "Time        August   January  True      True          -1.740  59.000  two-sided    0.087     0.131  fdr_bh       0.582    -0.328\n",
            "Time        August   June     True      True          -2.743  59.000  two-sided    0.008     0.024  fdr_bh       4.232    -0.483\n",
            "Time        January  June     True      True          -1.024  59.000  two-sided    0.310     0.310  fdr_bh       0.232    -0.170\n",
            "\n"
          ],
          "name": "stdout"
        }
      ]
    },
    {
      "cell_type": "code",
      "metadata": {
        "id": "N66PqVelnDCs",
        "colab_type": "code",
        "colab": {
          "base_uri": "https://localhost:8080/",
          "height": 204
        },
        "outputId": "a8c2b270-290e-4969-ddbf-2ed63c3493ef"
      },
      "source": [
        "# Compute the two-way mixed ANOVA and export to a .csv file\n",
        "aov = pg.mixed_anova(data=df, dv='Scores', between='Group', within='Time',\n",
        "                     subject='Subject', correction=False, effsize=\"np2\")\n",
        "pg.print_table(aov)"
      ],
      "execution_count": 14,
      "outputs": [
        {
          "output_type": "stream",
          "text": [
            "\n",
            "=============\n",
            "ANOVA SUMMARY\n",
            "=============\n",
            "\n",
            "Source          SS    DF1    DF2     MS      F    p-unc    np2      eps\n",
            "-----------  -----  -----  -----  -----  -----  -------  -----  -------\n",
            "Group        5.460      1     58  5.460  5.052    0.028  0.080  nan\n",
            "Time         7.628      2    116  3.814  4.027    0.020  0.065    0.999\n",
            "Interaction  5.167      2    116  2.584  2.728    0.070  0.045  nan\n",
            "\n"
          ],
          "name": "stdout"
        }
      ]
    },
    {
      "cell_type": "code",
      "metadata": {
        "id": "tFtOMz37nJ8W",
        "colab_type": "code",
        "colab": {}
      },
      "source": [
        ""
      ],
      "execution_count": null,
      "outputs": []
    }
  ]
}