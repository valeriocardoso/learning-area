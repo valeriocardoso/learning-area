{
  "nbformat": 4,
  "nbformat_minor": 0,
  "metadata": {
    "colab": {
      "name": "DGL Graphs.ipynb",
      "provenance": [],
      "authorship_tag": "ABX9TyPkypooamDnQVjTY0bvOi5X",
      "include_colab_link": true
    },
    "kernelspec": {
      "name": "python3",
      "display_name": "Python 3"
    }
  },
  "cells": [
    {
      "cell_type": "markdown",
      "metadata": {
        "id": "view-in-github",
        "colab_type": "text"
      },
      "source": [
        "<a href=\"https://colab.research.google.com/github/valeriocardoso/learning-area/blob/master/Machine_Learning/DGL-Graphs.ipynb\" target=\"_parent\"><img src=\"https://colab.research.google.com/assets/colab-badge.svg\" alt=\"Open In Colab\"/></a>"
      ]
    },
    {
      "cell_type": "code",
      "metadata": {
        "id": "IIrw_t3MhhSE",
        "colab_type": "code",
        "colab": {
          "base_uri": "https://localhost:8080/",
          "height": 255
        },
        "outputId": "b6e2bbfa-2707-46f6-fe06-5e5a09ce2954"
      },
      "source": [
        "!pip install dgl"
      ],
      "execution_count": 1,
      "outputs": [
        {
          "output_type": "stream",
          "text": [
            "Collecting dgl\n",
            "\u001b[?25l  Downloading https://files.pythonhosted.org/packages/c5/b4/84e4ebd70ef3985181ef5d2d2a366a45af0e3cd18d249fb212ac03f683cf/dgl-0.4.3.post2-cp36-cp36m-manylinux1_x86_64.whl (3.0MB)\n",
            "\u001b[K     |████████████████████████████████| 3.0MB 4.3MB/s \n",
            "\u001b[?25hRequirement already satisfied: requests>=2.19.0 in /usr/local/lib/python3.6/dist-packages (from dgl) (2.23.0)\n",
            "Requirement already satisfied: scipy>=1.1.0 in /usr/local/lib/python3.6/dist-packages (from dgl) (1.4.1)\n",
            "Requirement already satisfied: networkx>=2.1 in /usr/local/lib/python3.6/dist-packages (from dgl) (2.4)\n",
            "Requirement already satisfied: numpy>=1.14.0 in /usr/local/lib/python3.6/dist-packages (from dgl) (1.18.5)\n",
            "Requirement already satisfied: certifi>=2017.4.17 in /usr/local/lib/python3.6/dist-packages (from requests>=2.19.0->dgl) (2020.6.20)\n",
            "Requirement already satisfied: urllib3!=1.25.0,!=1.25.1,<1.26,>=1.21.1 in /usr/local/lib/python3.6/dist-packages (from requests>=2.19.0->dgl) (1.24.3)\n",
            "Requirement already satisfied: idna<3,>=2.5 in /usr/local/lib/python3.6/dist-packages (from requests>=2.19.0->dgl) (2.10)\n",
            "Requirement already satisfied: chardet<4,>=3.0.2 in /usr/local/lib/python3.6/dist-packages (from requests>=2.19.0->dgl) (3.0.4)\n",
            "Requirement already satisfied: decorator>=4.3.0 in /usr/local/lib/python3.6/dist-packages (from networkx>=2.1->dgl) (4.4.2)\n",
            "Installing collected packages: dgl\n",
            "Successfully installed dgl-0.4.3.post2\n"
          ],
          "name": "stdout"
        }
      ]
    },
    {
      "cell_type": "code",
      "metadata": {
        "id": "K2AenoMCh2OV",
        "colab_type": "code",
        "colab": {
          "base_uri": "https://localhost:8080/",
          "height": 68
        },
        "outputId": "4b1e5c29-a39e-4ab6-bde4-a68304f81a38"
      },
      "source": [
        "import dgl\n",
        "import dgl.function as fn\n",
        "import torch as th\n",
        "import torch.nn as nn\n",
        "import torch.nn.functional as F\n",
        "from dgl import DGLGraph\n",
        "\n",
        "gcn_msg = fn.copy_src(src='h', out='m')\n",
        "gcn_reduce = fn.sum(msg='m', out='h')"
      ],
      "execution_count": 2,
      "outputs": [
        {
          "output_type": "stream",
          "text": [
            "DGL backend not selected or invalid.  Assuming PyTorch for now.\n",
            "Using backend: pytorch\n"
          ],
          "name": "stderr"
        },
        {
          "output_type": "stream",
          "text": [
            "Setting the default backend to \"pytorch\". You can change it in the ~/.dgl/config.json file or export the DGLBACKEND environment variable.  Valid options are: pytorch, mxnet, tensorflow (all lowercase)\n"
          ],
          "name": "stdout"
        }
      ]
    },
    {
      "cell_type": "code",
      "metadata": {
        "id": "8IASn80Dh6A7",
        "colab_type": "code",
        "colab": {}
      },
      "source": [
        "class GCNLayer(nn.Module):\n",
        "    def __init__(self, in_feats, out_feats):\n",
        "        super(GCNLayer, self).__init__()\n",
        "        self.linear = nn.Linear(in_feats, out_feats)\n",
        "\n",
        "    def forward(self, g, feature):\n",
        "        # Creating a local scope so that all the stored ndata and edata\n",
        "        # (such as the `'h'` ndata below) are automatically popped out\n",
        "        # when the scope exits.\n",
        "        with g.local_scope():\n",
        "            g.ndata['h'] = feature\n",
        "            g.update_all(gcn_msg, gcn_reduce)\n",
        "            h = g.ndata['h']\n",
        "            return self.linear(h)"
      ],
      "execution_count": 3,
      "outputs": []
    },
    {
      "cell_type": "code",
      "metadata": {
        "id": "xdfwwjREh9JX",
        "colab_type": "code",
        "colab": {
          "base_uri": "https://localhost:8080/",
          "height": 153
        },
        "outputId": "45343533-bf4a-4e8f-aba4-16bf1b748748"
      },
      "source": [
        "class Net(nn.Module):\n",
        "    def __init__(self):\n",
        "        super(Net, self).__init__()\n",
        "        self.layer1 = GCNLayer(1433, 16)\n",
        "        self.layer2 = GCNLayer(16, 7)\n",
        "\n",
        "    def forward(self, g, features):\n",
        "        x = F.relu(self.layer1(g, features))\n",
        "        x = self.layer2(g, x)\n",
        "        return x\n",
        "net = Net()\n",
        "print(net)"
      ],
      "execution_count": 4,
      "outputs": [
        {
          "output_type": "stream",
          "text": [
            "Net(\n",
            "  (layer1): GCNLayer(\n",
            "    (linear): Linear(in_features=1433, out_features=16, bias=True)\n",
            "  )\n",
            "  (layer2): GCNLayer(\n",
            "    (linear): Linear(in_features=16, out_features=7, bias=True)\n",
            "  )\n",
            ")\n"
          ],
          "name": "stdout"
        }
      ]
    },
    {
      "cell_type": "code",
      "metadata": {
        "id": "z0Z8frmvh_OZ",
        "colab_type": "code",
        "colab": {}
      },
      "source": [
        "from dgl.data import citation_graph as citegrh\n",
        "import networkx as nx\n",
        "def load_cora_data():\n",
        "    data = citegrh.load_cora()\n",
        "    features = th.FloatTensor(data.features)\n",
        "    labels = th.LongTensor(data.labels)\n",
        "    train_mask = th.BoolTensor(data.train_mask)\n",
        "    test_mask = th.BoolTensor(data.test_mask)\n",
        "    g = DGLGraph(data.graph)\n",
        "    return g, features, labels, train_mask, test_mask"
      ],
      "execution_count": 5,
      "outputs": []
    },
    {
      "cell_type": "code",
      "metadata": {
        "id": "Ysolg1mBiCzv",
        "colab_type": "code",
        "colab": {}
      },
      "source": [
        "def evaluate(model, g, features, labels, mask):\n",
        "    model.eval()\n",
        "    with th.no_grad():\n",
        "        logits = model(g, features)\n",
        "        logits = logits[mask]\n",
        "        labels = labels[mask]\n",
        "        _, indices = th.max(logits, dim=1)\n",
        "        correct = th.sum(indices == labels)\n",
        "        return correct.item() * 1.0 / len(labels)"
      ],
      "execution_count": 6,
      "outputs": []
    },
    {
      "cell_type": "code",
      "metadata": {
        "id": "Xk2G4PVmiGID",
        "colab_type": "code",
        "colab": {
          "base_uri": "https://localhost:8080/",
          "height": 969
        },
        "outputId": "323edca7-815c-4753-f9cd-69d5959c3a36"
      },
      "source": [
        "import time\n",
        "import numpy as np\n",
        "g, features, labels, train_mask, test_mask = load_cora_data()\n",
        "optimizer = th.optim.Adam(net.parameters(), lr=1e-2)\n",
        "dur = []\n",
        "for epoch in range(50):\n",
        "    if epoch >=3:\n",
        "        t0 = time.time()\n",
        "\n",
        "    net.train()\n",
        "    logits = net(g, features)\n",
        "    logp = F.log_softmax(logits, 1)\n",
        "    loss = F.nll_loss(logp[train_mask], labels[train_mask])\n",
        "\n",
        "    optimizer.zero_grad()\n",
        "    loss.backward()\n",
        "    optimizer.step()\n",
        "\n",
        "    if epoch >=3:\n",
        "        dur.append(time.time() - t0)\n",
        "\n",
        "    acc = evaluate(net, g, features, labels, test_mask)\n",
        "    print(\"Epoch {:05d} | Loss {:.4f} | Test Acc {:.4f} | Time(s) {:.4f}\".format(\n",
        "            epoch, loss.item(), acc, np.mean(dur)))"
      ],
      "execution_count": 7,
      "outputs": [
        {
          "output_type": "stream",
          "text": [
            "Downloading /root/.dgl/cora.zip from https://data.dgl.ai/dataset/cora_raw.zip...\n",
            "Extracting file to /root/.dgl/cora\n"
          ],
          "name": "stdout"
        },
        {
          "output_type": "stream",
          "text": [
            "/usr/local/lib/python3.6/dist-packages/numpy/core/fromnumeric.py:3335: RuntimeWarning: Mean of empty slice.\n",
            "  out=out, **kwargs)\n",
            "/usr/local/lib/python3.6/dist-packages/numpy/core/_methods.py:161: RuntimeWarning: invalid value encountered in double_scalars\n",
            "  ret = ret.dtype.type(ret / rcount)\n"
          ],
          "name": "stderr"
        },
        {
          "output_type": "stream",
          "text": [
            "Epoch 00000 | Loss 2.0084 | Test Acc 0.1160 | Time(s) nan\n",
            "Epoch 00001 | Loss 1.8265 | Test Acc 0.3430 | Time(s) nan\n",
            "Epoch 00002 | Loss 1.6620 | Test Acc 0.3540 | Time(s) nan\n",
            "Epoch 00003 | Loss 1.5301 | Test Acc 0.3690 | Time(s) 0.1448\n",
            "Epoch 00004 | Loss 1.4189 | Test Acc 0.4070 | Time(s) 0.1465\n",
            "Epoch 00005 | Loss 1.3242 | Test Acc 0.4510 | Time(s) 0.1458\n",
            "Epoch 00006 | Loss 1.2394 | Test Acc 0.4860 | Time(s) 0.1455\n",
            "Epoch 00007 | Loss 1.1629 | Test Acc 0.5260 | Time(s) 0.1457\n",
            "Epoch 00008 | Loss 1.0936 | Test Acc 0.5590 | Time(s) 0.1454\n",
            "Epoch 00009 | Loss 1.0302 | Test Acc 0.5830 | Time(s) 0.1452\n",
            "Epoch 00010 | Loss 0.9721 | Test Acc 0.6230 | Time(s) 0.1450\n",
            "Epoch 00011 | Loss 0.9185 | Test Acc 0.6480 | Time(s) 0.1454\n",
            "Epoch 00012 | Loss 0.8695 | Test Acc 0.6600 | Time(s) 0.1454\n",
            "Epoch 00013 | Loss 0.8242 | Test Acc 0.6700 | Time(s) 0.1453\n",
            "Epoch 00014 | Loss 0.7814 | Test Acc 0.6770 | Time(s) 0.1451\n",
            "Epoch 00015 | Loss 0.7404 | Test Acc 0.6890 | Time(s) 0.1452\n",
            "Epoch 00016 | Loss 0.7009 | Test Acc 0.7010 | Time(s) 0.1455\n",
            "Epoch 00017 | Loss 0.6628 | Test Acc 0.7090 | Time(s) 0.1454\n",
            "Epoch 00018 | Loss 0.6264 | Test Acc 0.7200 | Time(s) 0.1454\n",
            "Epoch 00019 | Loss 0.5914 | Test Acc 0.7260 | Time(s) 0.1453\n",
            "Epoch 00020 | Loss 0.5578 | Test Acc 0.7340 | Time(s) 0.1453\n",
            "Epoch 00021 | Loss 0.5260 | Test Acc 0.7550 | Time(s) 0.1453\n",
            "Epoch 00022 | Loss 0.4961 | Test Acc 0.7610 | Time(s) 0.1455\n",
            "Epoch 00023 | Loss 0.4687 | Test Acc 0.7680 | Time(s) 0.1455\n",
            "Epoch 00024 | Loss 0.4439 | Test Acc 0.7750 | Time(s) 0.1455\n",
            "Epoch 00025 | Loss 0.4212 | Test Acc 0.7780 | Time(s) 0.1455\n",
            "Epoch 00026 | Loss 0.3999 | Test Acc 0.7780 | Time(s) 0.1455\n",
            "Epoch 00027 | Loss 0.3795 | Test Acc 0.7790 | Time(s) 0.1454\n",
            "Epoch 00028 | Loss 0.3602 | Test Acc 0.7790 | Time(s) 0.1454\n",
            "Epoch 00029 | Loss 0.3422 | Test Acc 0.7790 | Time(s) 0.1454\n",
            "Epoch 00030 | Loss 0.3256 | Test Acc 0.7810 | Time(s) 0.1456\n",
            "Epoch 00031 | Loss 0.3102 | Test Acc 0.7810 | Time(s) 0.1456\n",
            "Epoch 00032 | Loss 0.2959 | Test Acc 0.7810 | Time(s) 0.1456\n",
            "Epoch 00033 | Loss 0.2821 | Test Acc 0.7830 | Time(s) 0.1457\n",
            "Epoch 00034 | Loss 0.2689 | Test Acc 0.7830 | Time(s) 0.1457\n",
            "Epoch 00035 | Loss 0.2564 | Test Acc 0.7830 | Time(s) 0.1456\n",
            "Epoch 00036 | Loss 0.2447 | Test Acc 0.7840 | Time(s) 0.1456\n",
            "Epoch 00037 | Loss 0.2337 | Test Acc 0.7840 | Time(s) 0.1456\n",
            "Epoch 00038 | Loss 0.2231 | Test Acc 0.7830 | Time(s) 0.1456\n",
            "Epoch 00039 | Loss 0.2129 | Test Acc 0.7810 | Time(s) 0.1456\n",
            "Epoch 00040 | Loss 0.2033 | Test Acc 0.7840 | Time(s) 0.1457\n",
            "Epoch 00041 | Loss 0.1943 | Test Acc 0.7840 | Time(s) 0.1457\n",
            "Epoch 00042 | Loss 0.1859 | Test Acc 0.7860 | Time(s) 0.1457\n",
            "Epoch 00043 | Loss 0.1778 | Test Acc 0.7870 | Time(s) 0.1457\n",
            "Epoch 00044 | Loss 0.1699 | Test Acc 0.7860 | Time(s) 0.1457\n",
            "Epoch 00045 | Loss 0.1626 | Test Acc 0.7860 | Time(s) 0.1457\n",
            "Epoch 00046 | Loss 0.1560 | Test Acc 0.7830 | Time(s) 0.1457\n",
            "Epoch 00047 | Loss 0.1496 | Test Acc 0.7840 | Time(s) 0.1457\n",
            "Epoch 00048 | Loss 0.1434 | Test Acc 0.7860 | Time(s) 0.1456\n",
            "Epoch 00049 | Loss 0.1376 | Test Acc 0.7890 | Time(s) 0.1456\n"
          ],
          "name": "stdout"
        }
      ]
    },
    {
      "cell_type": "code",
      "metadata": {
        "id": "cPwPAUnViI62",
        "colab_type": "code",
        "colab": {}
      },
      "source": [
        ""
      ],
      "execution_count": null,
      "outputs": []
    }
  ]
}