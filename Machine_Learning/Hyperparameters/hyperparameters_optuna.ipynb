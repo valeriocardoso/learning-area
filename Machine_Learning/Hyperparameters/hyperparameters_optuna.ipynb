{
  "nbformat": 4,
  "nbformat_minor": 0,
  "metadata": {
    "colab": {
      "name": "hyperparameters optuna.ipynb",
      "provenance": [],
      "collapsed_sections": [],
      "authorship_tag": "ABX9TyMjuCkrui6apNMnCTU/poas",
      "include_colab_link": true
    },
    "kernelspec": {
      "name": "python3",
      "display_name": "Python 3"
    },
    "widgets": {
      "application/vnd.jupyter.widget-state+json": {
        "9c55d651448d48e399ccfefde93a1ca8": {
          "model_module": "@jupyter-widgets/controls",
          "model_name": "HBoxModel",
          "state": {
            "_view_name": "HBoxView",
            "_dom_classes": [],
            "_model_name": "HBoxModel",
            "_view_module": "@jupyter-widgets/controls",
            "_model_module_version": "1.5.0",
            "_view_count": null,
            "_view_module_version": "1.5.0",
            "box_style": "",
            "layout": "IPY_MODEL_987da8cc3dfd490a8e664682f335d1ad",
            "_model_module": "@jupyter-widgets/controls",
            "children": [
              "IPY_MODEL_ac2f6d0c749a4721b864e5ce567ab264",
              "IPY_MODEL_9e64b5cea49e49448d46402f6d41c05e"
            ]
          }
        },
        "987da8cc3dfd490a8e664682f335d1ad": {
          "model_module": "@jupyter-widgets/base",
          "model_name": "LayoutModel",
          "state": {
            "_view_name": "LayoutView",
            "grid_template_rows": null,
            "right": null,
            "justify_content": null,
            "_view_module": "@jupyter-widgets/base",
            "overflow": null,
            "_model_module_version": "1.2.0",
            "_view_count": null,
            "flex_flow": null,
            "width": null,
            "min_width": null,
            "border": null,
            "align_items": null,
            "bottom": null,
            "_model_module": "@jupyter-widgets/base",
            "top": null,
            "grid_column": null,
            "overflow_y": null,
            "overflow_x": null,
            "grid_auto_flow": null,
            "grid_area": null,
            "grid_template_columns": null,
            "flex": null,
            "_model_name": "LayoutModel",
            "justify_items": null,
            "grid_row": null,
            "max_height": null,
            "align_content": null,
            "visibility": null,
            "align_self": null,
            "height": null,
            "min_height": null,
            "padding": null,
            "grid_auto_rows": null,
            "grid_gap": null,
            "max_width": null,
            "order": null,
            "_view_module_version": "1.2.0",
            "grid_template_areas": null,
            "object_position": null,
            "object_fit": null,
            "grid_auto_columns": null,
            "margin": null,
            "display": null,
            "left": null
          }
        },
        "ac2f6d0c749a4721b864e5ce567ab264": {
          "model_module": "@jupyter-widgets/controls",
          "model_name": "FloatProgressModel",
          "state": {
            "_view_name": "ProgressView",
            "style": "IPY_MODEL_c35be5ab1b154ba9a2a429fe19a7d626",
            "_dom_classes": [],
            "description": "100%",
            "_model_name": "FloatProgressModel",
            "bar_style": "success",
            "max": 10,
            "_view_module": "@jupyter-widgets/controls",
            "_model_module_version": "1.5.0",
            "value": 10,
            "_view_count": null,
            "_view_module_version": "1.5.0",
            "orientation": "horizontal",
            "min": 0,
            "description_tooltip": null,
            "_model_module": "@jupyter-widgets/controls",
            "layout": "IPY_MODEL_9be2b1ee41fd422db93226417780bcb5"
          }
        },
        "9e64b5cea49e49448d46402f6d41c05e": {
          "model_module": "@jupyter-widgets/controls",
          "model_name": "HTMLModel",
          "state": {
            "_view_name": "HTMLView",
            "style": "IPY_MODEL_2868080d26284eb2af17dca59b6c4e10",
            "_dom_classes": [],
            "description": "",
            "_model_name": "HTMLModel",
            "placeholder": "​",
            "_view_module": "@jupyter-widgets/controls",
            "_model_module_version": "1.5.0",
            "value": " 10/10 [00:00&lt;00:00, 30.48it/s]",
            "_view_count": null,
            "_view_module_version": "1.5.0",
            "description_tooltip": null,
            "_model_module": "@jupyter-widgets/controls",
            "layout": "IPY_MODEL_21532154d706408aa74a14f1f960bcfb"
          }
        },
        "c35be5ab1b154ba9a2a429fe19a7d626": {
          "model_module": "@jupyter-widgets/controls",
          "model_name": "ProgressStyleModel",
          "state": {
            "_view_name": "StyleView",
            "_model_name": "ProgressStyleModel",
            "description_width": "initial",
            "_view_module": "@jupyter-widgets/base",
            "_model_module_version": "1.5.0",
            "_view_count": null,
            "_view_module_version": "1.2.0",
            "bar_color": null,
            "_model_module": "@jupyter-widgets/controls"
          }
        },
        "9be2b1ee41fd422db93226417780bcb5": {
          "model_module": "@jupyter-widgets/base",
          "model_name": "LayoutModel",
          "state": {
            "_view_name": "LayoutView",
            "grid_template_rows": null,
            "right": null,
            "justify_content": null,
            "_view_module": "@jupyter-widgets/base",
            "overflow": null,
            "_model_module_version": "1.2.0",
            "_view_count": null,
            "flex_flow": null,
            "width": null,
            "min_width": null,
            "border": null,
            "align_items": null,
            "bottom": null,
            "_model_module": "@jupyter-widgets/base",
            "top": null,
            "grid_column": null,
            "overflow_y": null,
            "overflow_x": null,
            "grid_auto_flow": null,
            "grid_area": null,
            "grid_template_columns": null,
            "flex": null,
            "_model_name": "LayoutModel",
            "justify_items": null,
            "grid_row": null,
            "max_height": null,
            "align_content": null,
            "visibility": null,
            "align_self": null,
            "height": null,
            "min_height": null,
            "padding": null,
            "grid_auto_rows": null,
            "grid_gap": null,
            "max_width": null,
            "order": null,
            "_view_module_version": "1.2.0",
            "grid_template_areas": null,
            "object_position": null,
            "object_fit": null,
            "grid_auto_columns": null,
            "margin": null,
            "display": null,
            "left": null
          }
        },
        "2868080d26284eb2af17dca59b6c4e10": {
          "model_module": "@jupyter-widgets/controls",
          "model_name": "DescriptionStyleModel",
          "state": {
            "_view_name": "StyleView",
            "_model_name": "DescriptionStyleModel",
            "description_width": "",
            "_view_module": "@jupyter-widgets/base",
            "_model_module_version": "1.5.0",
            "_view_count": null,
            "_view_module_version": "1.2.0",
            "_model_module": "@jupyter-widgets/controls"
          }
        },
        "21532154d706408aa74a14f1f960bcfb": {
          "model_module": "@jupyter-widgets/base",
          "model_name": "LayoutModel",
          "state": {
            "_view_name": "LayoutView",
            "grid_template_rows": null,
            "right": null,
            "justify_content": null,
            "_view_module": "@jupyter-widgets/base",
            "overflow": null,
            "_model_module_version": "1.2.0",
            "_view_count": null,
            "flex_flow": null,
            "width": null,
            "min_width": null,
            "border": null,
            "align_items": null,
            "bottom": null,
            "_model_module": "@jupyter-widgets/base",
            "top": null,
            "grid_column": null,
            "overflow_y": null,
            "overflow_x": null,
            "grid_auto_flow": null,
            "grid_area": null,
            "grid_template_columns": null,
            "flex": null,
            "_model_name": "LayoutModel",
            "justify_items": null,
            "grid_row": null,
            "max_height": null,
            "align_content": null,
            "visibility": null,
            "align_self": null,
            "height": null,
            "min_height": null,
            "padding": null,
            "grid_auto_rows": null,
            "grid_gap": null,
            "max_width": null,
            "order": null,
            "_view_module_version": "1.2.0",
            "grid_template_areas": null,
            "object_position": null,
            "object_fit": null,
            "grid_auto_columns": null,
            "margin": null,
            "display": null,
            "left": null
          }
        }
      }
    }
  },
  "cells": [
    {
      "cell_type": "markdown",
      "metadata": {
        "id": "view-in-github",
        "colab_type": "text"
      },
      "source": [
        "<a href=\"https://colab.research.google.com/github/valeriocardoso/learning-area/blob/master/Machine_Learning/Hyperparameters/hyperparameters_optuna.ipynb\" target=\"_parent\"><img src=\"https://colab.research.google.com/assets/colab-badge.svg\" alt=\"Open In Colab\"/></a>"
      ]
    },
    {
      "cell_type": "code",
      "metadata": {
        "id": "8eaealU2JrTO",
        "colab_type": "code",
        "colab": {
          "base_uri": "https://localhost:8080/",
          "height": 1000
        },
        "outputId": "12f27af7-c9e8-424e-e456-67ee9f95e6a6"
      },
      "source": [
        "!pip install optuna"
      ],
      "execution_count": null,
      "outputs": [
        {
          "output_type": "stream",
          "text": [
            "Collecting optuna\n",
            "\u001b[?25l  Downloading https://files.pythonhosted.org/packages/06/b0/9a6313c78bca92abfacc08a2ad8b27bfe845256f615786ee2b6452ae1978/optuna-2.0.0.tar.gz (226kB)\n",
            "\u001b[K     |████████████████████████████████| 235kB 2.8MB/s \n",
            "\u001b[?25hCollecting alembic\n",
            "\u001b[?25l  Downloading https://files.pythonhosted.org/packages/60/1e/cabc75a189de0fbb2841d0975243e59bde8b7822bacbb95008ac6fe9ad47/alembic-1.4.2.tar.gz (1.1MB)\n",
            "\u001b[K     |████████████████████████████████| 1.1MB 7.4MB/s \n",
            "\u001b[?25h  Installing build dependencies ... \u001b[?25l\u001b[?25hdone\n",
            "  Getting requirements to build wheel ... \u001b[?25l\u001b[?25hdone\n",
            "    Preparing wheel metadata ... \u001b[?25l\u001b[?25hdone\n",
            "Collecting cliff\n",
            "\u001b[?25l  Downloading https://files.pythonhosted.org/packages/71/06/03b1f92d46546a18eabf33ff7f37ef422c18c93d5a926bf590fee32ebe75/cliff-3.4.0-py3-none-any.whl (76kB)\n",
            "\u001b[K     |████████████████████████████████| 81kB 6.5MB/s \n",
            "\u001b[?25hCollecting cmaes>=0.5.1\n",
            "  Downloading https://files.pythonhosted.org/packages/63/88/d5e9b78151dce671d7e78ee4cc8905d83208254caa2a386b163ae0ab0027/cmaes-0.6.0-py3-none-any.whl\n",
            "Collecting colorlog\n",
            "  Downloading https://files.pythonhosted.org/packages/2a/81/12d77537c82c5d46aa2721dfee25a0e873ef5920ebd0827152f411effb57/colorlog-4.2.1-py2.py3-none-any.whl\n",
            "Requirement already satisfied: joblib in /usr/local/lib/python3.6/dist-packages (from optuna) (0.16.0)\n",
            "Requirement already satisfied: numpy in /usr/local/lib/python3.6/dist-packages (from optuna) (1.18.5)\n",
            "Requirement already satisfied: packaging in /usr/local/lib/python3.6/dist-packages (from optuna) (20.4)\n",
            "Requirement already satisfied: scipy!=1.4.0 in /usr/local/lib/python3.6/dist-packages (from optuna) (1.4.1)\n",
            "Requirement already satisfied: sqlalchemy>=1.1.0 in /usr/local/lib/python3.6/dist-packages (from optuna) (1.3.18)\n",
            "Requirement already satisfied: tqdm in /usr/local/lib/python3.6/dist-packages (from optuna) (4.41.1)\n",
            "Requirement already satisfied: python-dateutil in /usr/local/lib/python3.6/dist-packages (from alembic->optuna) (2.8.1)\n",
            "Collecting python-editor>=0.3\n",
            "  Downloading https://files.pythonhosted.org/packages/c6/d3/201fc3abe391bbae6606e6f1d598c15d367033332bd54352b12f35513717/python_editor-1.0.4-py3-none-any.whl\n",
            "Collecting Mako\n",
            "\u001b[?25l  Downloading https://files.pythonhosted.org/packages/a6/37/0e706200d22172eb8fa17d68a7ae22dec7631a0a92266634fb518a88a5b2/Mako-1.1.3-py2.py3-none-any.whl (75kB)\n",
            "\u001b[K     |████████████████████████████████| 81kB 6.9MB/s \n",
            "\u001b[?25hRequirement already satisfied: pyparsing>=2.1.0 in /usr/local/lib/python3.6/dist-packages (from cliff->optuna) (2.4.7)\n",
            "Requirement already satisfied: six>=1.10.0 in /usr/local/lib/python3.6/dist-packages (from cliff->optuna) (1.15.0)\n",
            "Collecting pbr!=2.1.0,>=2.0.0\n",
            "\u001b[?25l  Downloading https://files.pythonhosted.org/packages/96/ba/aa953a11ec014b23df057ecdbc922fdb40ca8463466b1193f3367d2711a6/pbr-5.4.5-py2.py3-none-any.whl (110kB)\n",
            "\u001b[K     |████████████████████████████████| 112kB 19.2MB/s \n",
            "\u001b[?25hCollecting stevedore>=2.0.1\n",
            "\u001b[?25l  Downloading https://files.pythonhosted.org/packages/d6/f4/041afc90e684f2b7d00a7f49abcbaf0b8c03e916bbc398ce49dce2a3c408/stevedore-3.2.0-py3-none-any.whl (42kB)\n",
            "\u001b[K     |████████████████████████████████| 51kB 5.2MB/s \n",
            "\u001b[?25hRequirement already satisfied: PrettyTable<0.8,>=0.7.2 in /usr/local/lib/python3.6/dist-packages (from cliff->optuna) (0.7.2)\n",
            "Collecting cmd2!=0.8.3,>=0.8.0\n",
            "\u001b[?25l  Downloading https://files.pythonhosted.org/packages/29/4c/1f97a0de461e56c62d5c565e6ebb02088dc0c11ff72d7c76d5f559417ef3/cmd2-1.3.2-py3-none-any.whl (129kB)\n",
            "\u001b[K     |████████████████████████████████| 133kB 17.9MB/s \n",
            "\u001b[?25hRequirement already satisfied: PyYAML>=3.12 in /usr/local/lib/python3.6/dist-packages (from cliff->optuna) (3.13)\n",
            "Requirement already satisfied: MarkupSafe>=0.9.2 in /usr/local/lib/python3.6/dist-packages (from Mako->alembic->optuna) (1.1.1)\n",
            "Requirement already satisfied: importlib-metadata>=1.7.0; python_version < \"3.8\" in /usr/local/lib/python3.6/dist-packages (from stevedore>=2.0.1->cliff->optuna) (1.7.0)\n",
            "Requirement already satisfied: wcwidth>=0.1.7 in /usr/local/lib/python3.6/dist-packages (from cmd2!=0.8.3,>=0.8.0->cliff->optuna) (0.2.5)\n",
            "Collecting pyperclip>=1.6\n",
            "  Downloading https://files.pythonhosted.org/packages/f6/5b/55866e1cde0f86f5eec59dab5de8a66628cb0d53da74b8dbc15ad8dabda3/pyperclip-1.8.0.tar.gz\n",
            "Requirement already satisfied: setuptools>=34.4 in /usr/local/lib/python3.6/dist-packages (from cmd2!=0.8.3,>=0.8.0->cliff->optuna) (49.2.0)\n",
            "Requirement already satisfied: attrs>=16.3.0 in /usr/local/lib/python3.6/dist-packages (from cmd2!=0.8.3,>=0.8.0->cliff->optuna) (19.3.0)\n",
            "Collecting colorama>=0.3.7\n",
            "  Downloading https://files.pythonhosted.org/packages/c9/dc/45cdef1b4d119eb96316b3117e6d5708a08029992b2fee2c143c7a0a5cc5/colorama-0.4.3-py2.py3-none-any.whl\n",
            "Requirement already satisfied: zipp>=0.5 in /usr/local/lib/python3.6/dist-packages (from importlib-metadata>=1.7.0; python_version < \"3.8\"->stevedore>=2.0.1->cliff->optuna) (3.1.0)\n",
            "Building wheels for collected packages: alembic\n",
            "  Building wheel for alembic (PEP 517) ... \u001b[?25l\u001b[?25hdone\n",
            "  Created wheel for alembic: filename=alembic-1.4.2-cp36-none-any.whl size=159543 sha256=0b827db905ab950bdc633c7e40d7221f0abc08da4aaa887365d9ae985cc85c85\n",
            "  Stored in directory: /root/.cache/pip/wheels/1f/04/83/76023f7a4c14688c0b5c2682a96392cfdd3ee4449eaaa287ef\n",
            "Successfully built alembic\n",
            "Building wheels for collected packages: optuna, pyperclip\n",
            "  Building wheel for optuna (setup.py) ... \u001b[?25l\u001b[?25hdone\n",
            "  Created wheel for optuna: filename=optuna-2.0.0-cp36-none-any.whl size=312964 sha256=a52d2b7d100742334c538cfac48daed0526a5788ce10c381d38f14258ec3a413\n",
            "  Stored in directory: /root/.cache/pip/wheels/b5/c9/03/c45484454bf657ffed0ed6af153bd3d213928df115eb2a56eb\n",
            "  Building wheel for pyperclip (setup.py) ... \u001b[?25l\u001b[?25hdone\n",
            "  Created wheel for pyperclip: filename=pyperclip-1.8.0-cp36-none-any.whl size=8693 sha256=bdf74d57847a5d093721dd366ebf9004906af1ef1293676f568cf262dcc309ef\n",
            "  Stored in directory: /root/.cache/pip/wheels/b2/ac/0a/b784f0afe26eaf52e88a7e15c7369090deea0354fa1c6fc689\n",
            "Successfully built optuna pyperclip\n",
            "Installing collected packages: python-editor, Mako, alembic, pbr, stevedore, pyperclip, colorama, cmd2, cliff, cmaes, colorlog, optuna\n",
            "Successfully installed Mako-1.1.3 alembic-1.4.2 cliff-3.4.0 cmaes-0.6.0 cmd2-1.3.2 colorama-0.4.3 colorlog-4.2.1 optuna-2.0.0 pbr-5.4.5 pyperclip-1.8.0 python-editor-1.0.4 stevedore-3.2.0\n"
          ],
          "name": "stdout"
        }
      ]
    },
    {
      "cell_type": "code",
      "metadata": {
        "id": "m8iSnj7RJ6ul",
        "colab_type": "code",
        "colab": {}
      },
      "source": [
        "import sklearn.datasets\n",
        "import sklearn.linear_model\n",
        "import sklearn.model_selection\n",
        "\n",
        "import optuna"
      ],
      "execution_count": null,
      "outputs": []
    },
    {
      "cell_type": "code",
      "metadata": {
        "id": "3KJDaa86KJ2Z",
        "colab_type": "code",
        "colab": {}
      },
      "source": [
        "def objective(trial):\n",
        "    x = trial.suggest_uniform('x', -10, 10)\n",
        "    return (x - 2) ** 2"
      ],
      "execution_count": null,
      "outputs": []
    },
    {
      "cell_type": "code",
      "metadata": {
        "id": "V-__LzaEKL7i",
        "colab_type": "code",
        "colab": {
          "base_uri": "https://localhost:8080/",
          "height": 1000
        },
        "outputId": "287c9538-9ca7-4f57-b890-df176b187923"
      },
      "source": [
        "study = optuna.create_study()\n",
        "study.optimize(objective, n_trials=100)"
      ],
      "execution_count": null,
      "outputs": [
        {
          "output_type": "stream",
          "text": [
            "[I 2020-08-13 00:12:19,645] Trial 0 finished with value: 27.82952436122798 and parameters: {'x': -3.2753695947514405}. Best is trial 0 with value: 27.82952436122798.\n",
            "[I 2020-08-13 00:12:19,654] Trial 1 finished with value: 61.69641036769845 and parameters: {'x': 9.854706255977906}. Best is trial 0 with value: 27.82952436122798.\n",
            "[I 2020-08-13 00:12:19,658] Trial 2 finished with value: 12.128419055184716 and parameters: {'x': -1.4825879824039934}. Best is trial 2 with value: 12.128419055184716.\n",
            "[I 2020-08-13 00:12:19,663] Trial 3 finished with value: 31.156634367829202 and parameters: {'x': 7.5818128209237905}. Best is trial 2 with value: 12.128419055184716.\n",
            "[I 2020-08-13 00:12:19,668] Trial 4 finished with value: 2.4454743802562704 and parameters: {'x': 3.5638012598333173}. Best is trial 4 with value: 2.4454743802562704.\n",
            "[I 2020-08-13 00:12:19,673] Trial 5 finished with value: 0.35322016387708194 and parameters: {'x': 1.4056767177056901}. Best is trial 5 with value: 0.35322016387708194.\n",
            "[I 2020-08-13 00:12:19,677] Trial 6 finished with value: 68.1791083944424 and parameters: {'x': -6.257064151043177}. Best is trial 5 with value: 0.35322016387708194.\n",
            "[I 2020-08-13 00:12:19,681] Trial 7 finished with value: 16.421312681163215 and parameters: {'x': 6.052321887654436}. Best is trial 5 with value: 0.35322016387708194.\n",
            "[I 2020-08-13 00:12:19,684] Trial 8 finished with value: 17.101142181908475 and parameters: {'x': 6.135352727628984}. Best is trial 5 with value: 0.35322016387708194.\n",
            "[I 2020-08-13 00:12:19,688] Trial 9 finished with value: 8.30785387354921 and parameters: {'x': -0.8823347955345522}. Best is trial 5 with value: 0.35322016387708194.\n",
            "[I 2020-08-13 00:12:19,695] Trial 10 finished with value: 0.000809653176489456 and parameters: {'x': 2.028454405221151}. Best is trial 10 with value: 0.000809653176489456.\n",
            "[I 2020-08-13 00:12:19,701] Trial 11 finished with value: 0.08606492809584167 and parameters: {'x': 2.2933682465704863}. Best is trial 10 with value: 0.000809653176489456.\n",
            "[I 2020-08-13 00:12:19,709] Trial 12 finished with value: 0.6189816133341273 and parameters: {'x': 2.7867538454523926}. Best is trial 10 with value: 0.000809653176489456.\n",
            "[I 2020-08-13 00:12:19,713] Trial 13 finished with value: 42.777920572363975 and parameters: {'x': -4.540483206336056}. Best is trial 10 with value: 0.000809653176489456.\n",
            "[I 2020-08-13 00:12:19,719] Trial 14 finished with value: 139.81529338856998 and parameters: {'x': -9.824351711132834}. Best is trial 10 with value: 0.000809653176489456.\n",
            "[I 2020-08-13 00:12:19,727] Trial 15 finished with value: 4.641445411718307 and parameters: {'x': 4.154401404501563}. Best is trial 10 with value: 0.000809653176489456.\n",
            "[I 2020-08-13 00:12:19,734] Trial 16 finished with value: 1.5144641420018499 and parameters: {'x': 0.7693643341744683}. Best is trial 10 with value: 0.000809653176489456.\n",
            "[I 2020-08-13 00:12:19,740] Trial 17 finished with value: 56.49747441647871 and parameters: {'x': 9.516480187992164}. Best is trial 10 with value: 0.000809653176489456.\n",
            "[I 2020-08-13 00:12:19,747] Trial 18 finished with value: 19.900706977141596 and parameters: {'x': -2.4610208447329183}. Best is trial 10 with value: 0.000809653176489456.\n",
            "[I 2020-08-13 00:12:19,753] Trial 19 finished with value: 1.0156717307219858 and parameters: {'x': 0.9921945967985755}. Best is trial 10 with value: 0.000809653176489456.\n",
            "[I 2020-08-13 00:12:19,760] Trial 20 finished with value: 10.404761728242628 and parameters: {'x': 5.2256412894558855}. Best is trial 10 with value: 0.000809653176489456.\n",
            "[I 2020-08-13 00:12:19,768] Trial 21 finished with value: 0.11786786730621655 and parameters: {'x': 1.6566810996956087}. Best is trial 10 with value: 0.000809653176489456.\n",
            "[I 2020-08-13 00:12:19,773] Trial 22 finished with value: 0.04837009885117222 and parameters: {'x': 2.2199320323444773}. Best is trial 10 with value: 0.000809653176489456.\n",
            "[I 2020-08-13 00:12:19,781] Trial 23 finished with value: 0.3599406948595364 and parameters: {'x': 2.5999505770140874}. Best is trial 10 with value: 0.000809653176489456.\n",
            "[I 2020-08-13 00:12:19,788] Trial 24 finished with value: 5.377777770473096 and parameters: {'x': -0.31900361588185033}. Best is trial 10 with value: 0.000809653176489456.\n",
            "[I 2020-08-13 00:12:19,795] Trial 25 finished with value: 6.273223467969375 and parameters: {'x': 4.504640386955655}. Best is trial 10 with value: 0.000809653176489456.\n",
            "[I 2020-08-13 00:12:19,801] Trial 26 finished with value: 29.000778103785866 and parameters: {'x': 7.385237051772732}. Best is trial 10 with value: 0.000809653176489456.\n",
            "[I 2020-08-13 00:12:19,808] Trial 27 finished with value: 0.31428631179884453 and parameters: {'x': 2.56061244349269}. Best is trial 10 with value: 0.000809653176489456.\n",
            "[I 2020-08-13 00:12:19,815] Trial 28 finished with value: 5.996744825725494 and parameters: {'x': -0.4488251929701912}. Best is trial 10 with value: 0.000809653176489456.\n",
            "[I 2020-08-13 00:12:19,821] Trial 29 finished with value: 36.87709381042444 and parameters: {'x': -4.07265129992036}. Best is trial 10 with value: 0.000809653176489456.\n",
            "[I 2020-08-13 00:12:19,827] Trial 30 finished with value: 16.031534264386774 and parameters: {'x': -2.003939842753232}. Best is trial 10 with value: 0.000809653176489456.\n",
            "[I 2020-08-13 00:12:19,833] Trial 31 finished with value: 0.103239042876901 and parameters: {'x': 1.6786916700785661}. Best is trial 10 with value: 0.000809653176489456.\n",
            "[I 2020-08-13 00:12:19,842] Trial 32 finished with value: 2.4240132488426673 and parameters: {'x': 0.4430757086991457}. Best is trial 10 with value: 0.000809653176489456.\n",
            "[I 2020-08-13 00:12:19,852] Trial 33 finished with value: 0.0902057773387009 and parameters: {'x': 2.3003427664164744}. Best is trial 10 with value: 0.000809653176489456.\n",
            "[I 2020-08-13 00:12:19,861] Trial 34 finished with value: 4.630897470471052 and parameters: {'x': 4.1519520139796455}. Best is trial 10 with value: 0.000809653176489456.\n",
            "[I 2020-08-13 00:12:19,868] Trial 35 finished with value: 1.2071159045161302 and parameters: {'x': 3.0986882653947525}. Best is trial 10 with value: 0.000809653176489456.\n",
            "[I 2020-08-13 00:12:19,875] Trial 36 finished with value: 9.704433634263266 and parameters: {'x': 5.115193996248591}. Best is trial 10 with value: 0.000809653176489456.\n",
            "[I 2020-08-13 00:12:19,881] Trial 37 finished with value: 0.00038576023558256823 and parameters: {'x': 1.9803592200872122}. Best is trial 37 with value: 0.00038576023558256823.\n",
            "[I 2020-08-13 00:12:19,888] Trial 38 finished with value: 38.20731727655398 and parameters: {'x': 8.181206781572186}. Best is trial 37 with value: 0.00038576023558256823.\n",
            "[I 2020-08-13 00:12:19,895] Trial 39 finished with value: 10.49445178294857 and parameters: {'x': -1.2395141276044113}. Best is trial 37 with value: 0.00038576023558256823.\n",
            "[I 2020-08-13 00:12:19,902] Trial 40 finished with value: 2.717049656196296 and parameters: {'x': 0.3516524467830531}. Best is trial 37 with value: 0.00038576023558256823.\n",
            "[I 2020-08-13 00:12:19,908] Trial 41 finished with value: 0.019073124637519128 and parameters: {'x': 2.1381054837344236}. Best is trial 37 with value: 0.00038576023558256823.\n",
            "[I 2020-08-13 00:12:19,915] Trial 42 finished with value: 2.141227723799462 and parameters: {'x': 3.4632934510204922}. Best is trial 37 with value: 0.00038576023558256823.\n",
            "[I 2020-08-13 00:12:19,922] Trial 43 finished with value: 0.23652162110651437 and parameters: {'x': 1.513665114240697}. Best is trial 37 with value: 0.00038576023558256823.\n",
            "[I 2020-08-13 00:12:19,928] Trial 44 finished with value: 2.1817452276497704 and parameters: {'x': 3.4770731964428068}. Best is trial 37 with value: 0.00038576023558256823.\n",
            "[I 2020-08-13 00:12:19,934] Trial 45 finished with value: 18.238803099753657 and parameters: {'x': 6.27069117354014}. Best is trial 37 with value: 0.00038576023558256823.\n",
            "[I 2020-08-13 00:12:19,941] Trial 46 finished with value: 2.4736592429943293e-05 and parameters: {'x': 2.0049735894914984}. Best is trial 46 with value: 2.4736592429943293e-05.\n",
            "[I 2020-08-13 00:12:19,948] Trial 47 finished with value: 3.3082829516523686 and parameters: {'x': 0.18113140891037194}. Best is trial 46 with value: 2.4736592429943293e-05.\n",
            "[I 2020-08-13 00:12:19,955] Trial 48 finished with value: 9.592894885506318 and parameters: {'x': 5.097239881815149}. Best is trial 46 with value: 2.4736592429943293e-05.\n",
            "[I 2020-08-13 00:12:19,962] Trial 49 finished with value: 0.2123508763967226 and parameters: {'x': 1.539184552779833}. Best is trial 46 with value: 2.4736592429943293e-05.\n",
            "[I 2020-08-13 00:12:19,968] Trial 50 finished with value: 25.50523355209203 and parameters: {'x': -3.0502706414698246}. Best is trial 46 with value: 2.4736592429943293e-05.\n",
            "[I 2020-08-13 00:12:19,975] Trial 51 finished with value: 6.0702196526737195e-05 and parameters: {'x': 2.007791161436316}. Best is trial 46 with value: 2.4736592429943293e-05.\n",
            "[I 2020-08-13 00:12:19,981] Trial 52 finished with value: 0.008783141447066668 and parameters: {'x': 2.09371841573067}. Best is trial 46 with value: 2.4736592429943293e-05.\n",
            "[I 2020-08-13 00:12:19,988] Trial 53 finished with value: 3.2730262134329364 and parameters: {'x': 3.8091506884261843}. Best is trial 46 with value: 2.4736592429943293e-05.\n",
            "[I 2020-08-13 00:12:19,998] Trial 54 finished with value: 1.1918050977623613 and parameters: {'x': 0.9083017368510833}. Best is trial 46 with value: 2.4736592429943293e-05.\n",
            "[I 2020-08-13 00:12:20,007] Trial 55 finished with value: 8.279252501820636 and parameters: {'x': -0.8773690242686352}. Best is trial 46 with value: 2.4736592429943293e-05.\n",
            "[I 2020-08-13 00:12:20,014] Trial 56 finished with value: 0.006401808430551348 and parameters: {'x': 2.080011301892616}. Best is trial 46 with value: 2.4736592429943293e-05.\n",
            "[I 2020-08-13 00:12:20,021] Trial 57 finished with value: 1.5108635756446214 and parameters: {'x': 3.22917190646574}. Best is trial 46 with value: 2.4736592429943293e-05.\n",
            "[I 2020-08-13 00:12:20,028] Trial 58 finished with value: 0.9165505648084762 and parameters: {'x': 1.0426335263816284}. Best is trial 46 with value: 2.4736592429943293e-05.\n",
            "[I 2020-08-13 00:12:20,035] Trial 59 finished with value: 6.996319957274854 and parameters: {'x': 4.645055756931194}. Best is trial 46 with value: 2.4736592429943293e-05.\n",
            "[I 2020-08-13 00:12:20,041] Trial 60 finished with value: 4.989797427448874 and parameters: {'x': -0.2337854479445589}. Best is trial 46 with value: 2.4736592429943293e-05.\n",
            "[I 2020-08-13 00:12:20,048] Trial 61 finished with value: 0.00925118580094063 and parameters: {'x': 2.0961830847963436}. Best is trial 46 with value: 2.4736592429943293e-05.\n",
            "[I 2020-08-13 00:12:20,055] Trial 62 finished with value: 0.9675968915295733 and parameters: {'x': 2.9836650301447}. Best is trial 46 with value: 2.4736592429943293e-05.\n",
            "[I 2020-08-13 00:12:20,061] Trial 63 finished with value: 0.0742340012259451 and parameters: {'x': 2.2724591735030133}. Best is trial 46 with value: 2.4736592429943293e-05.\n",
            "[I 2020-08-13 00:12:20,068] Trial 64 finished with value: 0.05201238510501792 and parameters: {'x': 1.771937760457769}. Best is trial 46 with value: 2.4736592429943293e-05.\n",
            "[I 2020-08-13 00:12:20,075] Trial 65 finished with value: 0.7831818835526375 and parameters: {'x': 1.1150243599100382}. Best is trial 46 with value: 2.4736592429943293e-05.\n",
            "[I 2020-08-13 00:12:20,082] Trial 66 finished with value: 3.119178922568652 and parameters: {'x': 3.766119736192496}. Best is trial 46 with value: 2.4736592429943293e-05.\n",
            "[I 2020-08-13 00:12:20,088] Trial 67 finished with value: 96.62541214947827 and parameters: {'x': -7.829822589928989}. Best is trial 46 with value: 2.4736592429943293e-05.\n",
            "[I 2020-08-13 00:12:20,096] Trial 68 finished with value: 0.5139868121165188 and parameters: {'x': 2.716928735730769}. Best is trial 46 with value: 2.4736592429943293e-05.\n",
            "[I 2020-08-13 00:12:20,102] Trial 69 finished with value: 13.58908139683364 and parameters: {'x': -1.6863371246853753}. Best is trial 46 with value: 2.4736592429943293e-05.\n",
            "[I 2020-08-13 00:12:20,109] Trial 70 finished with value: 2.222110570738893 and parameters: {'x': 0.5093254645165186}. Best is trial 46 with value: 2.4736592429943293e-05.\n",
            "[I 2020-08-13 00:12:20,116] Trial 71 finished with value: 0.0013840589293696354 and parameters: {'x': 2.0372029424826805}. Best is trial 46 with value: 2.4736592429943293e-05.\n",
            "[I 2020-08-13 00:12:20,124] Trial 72 finished with value: 0.019329556877652147 and parameters: {'x': 1.86096922327178}. Best is trial 46 with value: 2.4736592429943293e-05.\n",
            "[I 2020-08-13 00:12:20,133] Trial 73 finished with value: 0.5401957002604891 and parameters: {'x': 2.734980067934151}. Best is trial 46 with value: 2.4736592429943293e-05.\n",
            "[I 2020-08-13 00:12:20,140] Trial 74 finished with value: 7.518079362120043 and parameters: {'x': -0.7419116255123983}. Best is trial 46 with value: 2.4736592429943293e-05.\n",
            "[I 2020-08-13 00:12:20,148] Trial 75 finished with value: 4.046983972916099 and parameters: {'x': 4.011711702236704}. Best is trial 46 with value: 2.4736592429943293e-05.\n",
            "[I 2020-08-13 00:12:20,161] Trial 76 finished with value: 14.104625549678977 and parameters: {'x': 5.755612539876681}. Best is trial 46 with value: 2.4736592429943293e-05.\n",
            "[I 2020-08-13 00:12:20,169] Trial 77 finished with value: 0.6562520088412034 and parameters: {'x': 1.1899061728162574}. Best is trial 46 with value: 2.4736592429943293e-05.\n",
            "[I 2020-08-13 00:12:20,177] Trial 78 finished with value: 4.032722375966866 and parameters: {'x': -0.008163931547140013}. Best is trial 46 with value: 2.4736592429943293e-05.\n",
            "[I 2020-08-13 00:12:20,185] Trial 79 finished with value: 6.5730200735017865 and parameters: {'x': 4.563790177354962}. Best is trial 46 with value: 2.4736592429943293e-05.\n",
            "[I 2020-08-13 00:12:20,193] Trial 80 finished with value: 0.006139304258879387 and parameters: {'x': 2.0783537124766873}. Best is trial 46 with value: 2.4736592429943293e-05.\n",
            "[I 2020-08-13 00:12:20,201] Trial 81 finished with value: 0.01899943463438589 and parameters: {'x': 2.1378384367090177}. Best is trial 46 with value: 2.4736592429943293e-05.\n",
            "[I 2020-08-13 00:12:20,209] Trial 82 finished with value: 1.6893289661142643 and parameters: {'x': 0.7002581155805341}. Best is trial 46 with value: 2.4736592429943293e-05.\n",
            "[I 2020-08-13 00:12:20,217] Trial 83 finished with value: 1.1219992831957384 and parameters: {'x': 3.0592446757929626}. Best is trial 46 with value: 2.4736592429943293e-05.\n",
            "[I 2020-08-13 00:12:20,225] Trial 84 finished with value: 0.09304553045059198 and parameters: {'x': 1.6949663453803958}. Best is trial 46 with value: 2.4736592429943293e-05.\n",
            "[I 2020-08-13 00:12:20,233] Trial 85 finished with value: 0.33146015844166543 and parameters: {'x': 2.5757257666994464}. Best is trial 46 with value: 2.4736592429943293e-05.\n",
            "[I 2020-08-13 00:12:20,240] Trial 86 finished with value: 0.41583496630394806 and parameters: {'x': 1.3551473297690797}. Best is trial 46 with value: 2.4736592429943293e-05.\n",
            "[I 2020-08-13 00:12:20,248] Trial 87 finished with value: 1.9209752826018085 and parameters: {'x': 3.385992526170978}. Best is trial 46 with value: 2.4736592429943293e-05.\n",
            "[I 2020-08-13 00:12:20,256] Trial 88 finished with value: 0.11086842534809296 and parameters: {'x': 2.3329691056961486}. Best is trial 46 with value: 2.4736592429943293e-05.\n",
            "[I 2020-08-13 00:12:20,266] Trial 89 finished with value: 0.011408879449136764 and parameters: {'x': 1.8931876437431663}. Best is trial 46 with value: 2.4736592429943293e-05.\n",
            "[I 2020-08-13 00:12:20,276] Trial 90 finished with value: 3.052370507026637 and parameters: {'x': 0.25289653797302636}. Best is trial 46 with value: 2.4736592429943293e-05.\n",
            "[I 2020-08-13 00:12:20,283] Trial 91 finished with value: 0.02586841983918299 and parameters: {'x': 1.8391633753177374}. Best is trial 46 with value: 2.4736592429943293e-05.\n",
            "[I 2020-08-13 00:12:20,291] Trial 92 finished with value: 1.8623194192184571 and parameters: {'x': 0.6353317548874902}. Best is trial 46 with value: 2.4736592429943293e-05.\n",
            "[I 2020-08-13 00:12:20,299] Trial 93 finished with value: 0.5408830386621974 and parameters: {'x': 1.264552490885857}. Best is trial 46 with value: 2.4736592429943293e-05.\n",
            "[I 2020-08-13 00:12:20,307] Trial 94 finished with value: 1.4103152824832632 and parameters: {'x': 3.187566959157783}. Best is trial 46 with value: 2.4736592429943293e-05.\n",
            "[I 2020-08-13 00:12:20,316] Trial 95 finished with value: 4.715294688440204 and parameters: {'x': 4.171472930625709}. Best is trial 46 with value: 2.4736592429943293e-05.\n",
            "[I 2020-08-13 00:12:20,325] Trial 96 finished with value: 0.046655652343580496 and parameters: {'x': 2.2159991952382705}. Best is trial 46 with value: 2.4736592429943293e-05.\n",
            "[I 2020-08-13 00:12:20,334] Trial 97 finished with value: 6.261848758950844 and parameters: {'x': -0.5023686297088292}. Best is trial 46 with value: 2.4736592429943293e-05.\n",
            "[I 2020-08-13 00:12:20,340] Trial 98 finished with value: 0.6068099503191168 and parameters: {'x': 2.778980070553231}. Best is trial 46 with value: 2.4736592429943293e-05.\n",
            "[I 2020-08-13 00:12:20,348] Trial 99 finished with value: 0.00017601509241031179 and parameters: {'x': 1.9867329320341565}. Best is trial 46 with value: 2.4736592429943293e-05.\n"
          ],
          "name": "stderr"
        }
      ]
    },
    {
      "cell_type": "code",
      "metadata": {
        "id": "eANPVtFvKOfn",
        "colab_type": "code",
        "colab": {
          "base_uri": "https://localhost:8080/",
          "height": 34
        },
        "outputId": "0c48e980-725d-4532-bcba-1c335ce0336b"
      },
      "source": [
        "study.best_params"
      ],
      "execution_count": null,
      "outputs": [
        {
          "output_type": "execute_result",
          "data": {
            "text/plain": [
              "{'x': 2.0049735894914984}"
            ]
          },
          "metadata": {
            "tags": []
          },
          "execution_count": 6
        }
      ]
    },
    {
      "cell_type": "code",
      "metadata": {
        "id": "yyvIasNFKTSz",
        "colab_type": "code",
        "colab": {
          "base_uri": "https://localhost:8080/",
          "height": 54
        },
        "outputId": "d4ce2111-81f9-49a0-e58e-1ce4ea485dd0"
      },
      "source": [
        "study.best_trial"
      ],
      "execution_count": null,
      "outputs": [
        {
          "output_type": "execute_result",
          "data": {
            "text/plain": [
              "FrozenTrial(number=46, value=2.4736592429943293e-05, datetime_start=datetime.datetime(2020, 8, 13, 0, 12, 19, 938997), datetime_complete=datetime.datetime(2020, 8, 13, 0, 12, 19, 941302), params={'x': 2.0049735894914984}, distributions={'x': UniformDistribution(high=10, low=-10)}, user_attrs={}, system_attrs={}, intermediate_values={}, trial_id=46, state=TrialState.COMPLETE)"
            ]
          },
          "metadata": {
            "tags": []
          },
          "execution_count": 7
        }
      ]
    },
    {
      "cell_type": "code",
      "metadata": {
        "id": "cMyhtre_Kkf_",
        "colab_type": "code",
        "colab": {
          "base_uri": "https://localhost:8080/",
          "height": 1000
        },
        "outputId": "2d36bf11-d231-4c58-c06c-9f1156f8b533"
      },
      "source": [
        "study.trials"
      ],
      "execution_count": null,
      "outputs": [
        {
          "output_type": "execute_result",
          "data": {
            "text/plain": [
              "[FrozenTrial(number=0, value=27.82952436122798, datetime_start=datetime.datetime(2020, 8, 13, 0, 12, 19, 644656), datetime_complete=datetime.datetime(2020, 8, 13, 0, 12, 19, 645046), params={'x': -3.2753695947514405}, distributions={'x': UniformDistribution(high=10, low=-10)}, user_attrs={}, system_attrs={}, intermediate_values={}, trial_id=0, state=TrialState.COMPLETE),\n",
              " FrozenTrial(number=1, value=61.69641036769845, datetime_start=datetime.datetime(2020, 8, 13, 0, 12, 19, 653776), datetime_complete=datetime.datetime(2020, 8, 13, 0, 12, 19, 654362), params={'x': 9.854706255977906}, distributions={'x': UniformDistribution(high=10, low=-10)}, user_attrs={}, system_attrs={}, intermediate_values={}, trial_id=1, state=TrialState.COMPLETE),\n",
              " FrozenTrial(number=2, value=12.128419055184716, datetime_start=datetime.datetime(2020, 8, 13, 0, 12, 19, 657906), datetime_complete=datetime.datetime(2020, 8, 13, 0, 12, 19, 658105), params={'x': -1.4825879824039934}, distributions={'x': UniformDistribution(high=10, low=-10)}, user_attrs={}, system_attrs={}, intermediate_values={}, trial_id=2, state=TrialState.COMPLETE),\n",
              " FrozenTrial(number=3, value=31.156634367829202, datetime_start=datetime.datetime(2020, 8, 13, 0, 12, 19, 662940), datetime_complete=datetime.datetime(2020, 8, 13, 0, 12, 19, 663137), params={'x': 7.5818128209237905}, distributions={'x': UniformDistribution(high=10, low=-10)}, user_attrs={}, system_attrs={}, intermediate_values={}, trial_id=3, state=TrialState.COMPLETE),\n",
              " FrozenTrial(number=4, value=2.4454743802562704, datetime_start=datetime.datetime(2020, 8, 13, 0, 12, 19, 667633), datetime_complete=datetime.datetime(2020, 8, 13, 0, 12, 19, 667845), params={'x': 3.5638012598333173}, distributions={'x': UniformDistribution(high=10, low=-10)}, user_attrs={}, system_attrs={}, intermediate_values={}, trial_id=4, state=TrialState.COMPLETE),\n",
              " FrozenTrial(number=5, value=0.35322016387708194, datetime_start=datetime.datetime(2020, 8, 13, 0, 12, 19, 671639), datetime_complete=datetime.datetime(2020, 8, 13, 0, 12, 19, 672007), params={'x': 1.4056767177056901}, distributions={'x': UniformDistribution(high=10, low=-10)}, user_attrs={}, system_attrs={}, intermediate_values={}, trial_id=5, state=TrialState.COMPLETE),\n",
              " FrozenTrial(number=6, value=68.1791083944424, datetime_start=datetime.datetime(2020, 8, 13, 0, 12, 19, 676277), datetime_complete=datetime.datetime(2020, 8, 13, 0, 12, 19, 676471), params={'x': -6.257064151043177}, distributions={'x': UniformDistribution(high=10, low=-10)}, user_attrs={}, system_attrs={}, intermediate_values={}, trial_id=6, state=TrialState.COMPLETE),\n",
              " FrozenTrial(number=7, value=16.421312681163215, datetime_start=datetime.datetime(2020, 8, 13, 0, 12, 19, 680203), datetime_complete=datetime.datetime(2020, 8, 13, 0, 12, 19, 680442), params={'x': 6.052321887654436}, distributions={'x': UniformDistribution(high=10, low=-10)}, user_attrs={}, system_attrs={}, intermediate_values={}, trial_id=7, state=TrialState.COMPLETE),\n",
              " FrozenTrial(number=8, value=17.101142181908475, datetime_start=datetime.datetime(2020, 8, 13, 0, 12, 19, 684056), datetime_complete=datetime.datetime(2020, 8, 13, 0, 12, 19, 684260), params={'x': 6.135352727628984}, distributions={'x': UniformDistribution(high=10, low=-10)}, user_attrs={}, system_attrs={}, intermediate_values={}, trial_id=8, state=TrialState.COMPLETE),\n",
              " FrozenTrial(number=9, value=8.30785387354921, datetime_start=datetime.datetime(2020, 8, 13, 0, 12, 19, 687764), datetime_complete=datetime.datetime(2020, 8, 13, 0, 12, 19, 687954), params={'x': -0.8823347955345522}, distributions={'x': UniformDistribution(high=10, low=-10)}, user_attrs={}, system_attrs={}, intermediate_values={}, trial_id=9, state=TrialState.COMPLETE),\n",
              " FrozenTrial(number=10, value=0.000809653176489456, datetime_start=datetime.datetime(2020, 8, 13, 0, 12, 19, 691572), datetime_complete=datetime.datetime(2020, 8, 13, 0, 12, 19, 695131), params={'x': 2.028454405221151}, distributions={'x': UniformDistribution(high=10, low=-10)}, user_attrs={}, system_attrs={}, intermediate_values={}, trial_id=10, state=TrialState.COMPLETE),\n",
              " FrozenTrial(number=11, value=0.08606492809584167, datetime_start=datetime.datetime(2020, 8, 13, 0, 12, 19, 698641), datetime_complete=datetime.datetime(2020, 8, 13, 0, 12, 19, 701082), params={'x': 2.2933682465704863}, distributions={'x': UniformDistribution(high=10, low=-10)}, user_attrs={}, system_attrs={}, intermediate_values={}, trial_id=11, state=TrialState.COMPLETE),\n",
              " FrozenTrial(number=12, value=0.6189816133341273, datetime_start=datetime.datetime(2020, 8, 13, 0, 12, 19, 706668), datetime_complete=datetime.datetime(2020, 8, 13, 0, 12, 19, 708863), params={'x': 2.7867538454523926}, distributions={'x': UniformDistribution(high=10, low=-10)}, user_attrs={}, system_attrs={}, intermediate_values={}, trial_id=12, state=TrialState.COMPLETE),\n",
              " FrozenTrial(number=13, value=42.777920572363975, datetime_start=datetime.datetime(2020, 8, 13, 0, 12, 19, 711954), datetime_complete=datetime.datetime(2020, 8, 13, 0, 12, 19, 713682), params={'x': -4.540483206336056}, distributions={'x': UniformDistribution(high=10, low=-10)}, user_attrs={}, system_attrs={}, intermediate_values={}, trial_id=13, state=TrialState.COMPLETE),\n",
              " FrozenTrial(number=14, value=139.81529338856998, datetime_start=datetime.datetime(2020, 8, 13, 0, 12, 19, 716605), datetime_complete=datetime.datetime(2020, 8, 13, 0, 12, 19, 719377), params={'x': -9.824351711132834}, distributions={'x': UniformDistribution(high=10, low=-10)}, user_attrs={}, system_attrs={}, intermediate_values={}, trial_id=14, state=TrialState.COMPLETE),\n",
              " FrozenTrial(number=15, value=4.641445411718307, datetime_start=datetime.datetime(2020, 8, 13, 0, 12, 19, 725210), datetime_complete=datetime.datetime(2020, 8, 13, 0, 12, 19, 727496), params={'x': 4.154401404501563}, distributions={'x': UniformDistribution(high=10, low=-10)}, user_attrs={}, system_attrs={}, intermediate_values={}, trial_id=15, state=TrialState.COMPLETE),\n",
              " FrozenTrial(number=16, value=1.5144641420018499, datetime_start=datetime.datetime(2020, 8, 13, 0, 12, 19, 732587), datetime_complete=datetime.datetime(2020, 8, 13, 0, 12, 19, 734669), params={'x': 0.7693643341744683}, distributions={'x': UniformDistribution(high=10, low=-10)}, user_attrs={}, system_attrs={}, intermediate_values={}, trial_id=16, state=TrialState.COMPLETE),\n",
              " FrozenTrial(number=17, value=56.49747441647871, datetime_start=datetime.datetime(2020, 8, 13, 0, 12, 19, 738275), datetime_complete=datetime.datetime(2020, 8, 13, 0, 12, 19, 740338), params={'x': 9.516480187992164}, distributions={'x': UniformDistribution(high=10, low=-10)}, user_attrs={}, system_attrs={}, intermediate_values={}, trial_id=17, state=TrialState.COMPLETE),\n",
              " FrozenTrial(number=18, value=19.900706977141596, datetime_start=datetime.datetime(2020, 8, 13, 0, 12, 19, 745151), datetime_complete=datetime.datetime(2020, 8, 13, 0, 12, 19, 747301), params={'x': -2.4610208447329183}, distributions={'x': UniformDistribution(high=10, low=-10)}, user_attrs={}, system_attrs={}, intermediate_values={}, trial_id=18, state=TrialState.COMPLETE),\n",
              " FrozenTrial(number=19, value=1.0156717307219858, datetime_start=datetime.datetime(2020, 8, 13, 0, 12, 19, 751216), datetime_complete=datetime.datetime(2020, 8, 13, 0, 12, 19, 753288), params={'x': 0.9921945967985755}, distributions={'x': UniformDistribution(high=10, low=-10)}, user_attrs={}, system_attrs={}, intermediate_values={}, trial_id=19, state=TrialState.COMPLETE),\n",
              " FrozenTrial(number=20, value=10.404761728242628, datetime_start=datetime.datetime(2020, 8, 13, 0, 12, 19, 758429), datetime_complete=datetime.datetime(2020, 8, 13, 0, 12, 19, 760658), params={'x': 5.2256412894558855}, distributions={'x': UniformDistribution(high=10, low=-10)}, user_attrs={}, system_attrs={}, intermediate_values={}, trial_id=20, state=TrialState.COMPLETE),\n",
              " FrozenTrial(number=21, value=0.11786786730621655, datetime_start=datetime.datetime(2020, 8, 13, 0, 12, 19, 765510), datetime_complete=datetime.datetime(2020, 8, 13, 0, 12, 19, 767746), params={'x': 1.6566810996956087}, distributions={'x': UniformDistribution(high=10, low=-10)}, user_attrs={}, system_attrs={}, intermediate_values={}, trial_id=21, state=TrialState.COMPLETE),\n",
              " FrozenTrial(number=22, value=0.04837009885117222, datetime_start=datetime.datetime(2020, 8, 13, 0, 12, 19, 771267), datetime_complete=datetime.datetime(2020, 8, 13, 0, 12, 19, 773452), params={'x': 2.2199320323444773}, distributions={'x': UniformDistribution(high=10, low=-10)}, user_attrs={}, system_attrs={}, intermediate_values={}, trial_id=22, state=TrialState.COMPLETE),\n",
              " FrozenTrial(number=23, value=0.3599406948595364, datetime_start=datetime.datetime(2020, 8, 13, 0, 12, 19, 779045), datetime_complete=datetime.datetime(2020, 8, 13, 0, 12, 19, 781269), params={'x': 2.5999505770140874}, distributions={'x': UniformDistribution(high=10, low=-10)}, user_attrs={}, system_attrs={}, intermediate_values={}, trial_id=23, state=TrialState.COMPLETE),\n",
              " FrozenTrial(number=24, value=5.377777770473096, datetime_start=datetime.datetime(2020, 8, 13, 0, 12, 19, 785908), datetime_complete=datetime.datetime(2020, 8, 13, 0, 12, 19, 788277), params={'x': -0.31900361588185033}, distributions={'x': UniformDistribution(high=10, low=-10)}, user_attrs={}, system_attrs={}, intermediate_values={}, trial_id=24, state=TrialState.COMPLETE),\n",
              " FrozenTrial(number=25, value=6.273223467969375, datetime_start=datetime.datetime(2020, 8, 13, 0, 12, 19, 793348), datetime_complete=datetime.datetime(2020, 8, 13, 0, 12, 19, 795604), params={'x': 4.504640386955655}, distributions={'x': UniformDistribution(high=10, low=-10)}, user_attrs={}, system_attrs={}, intermediate_values={}, trial_id=25, state=TrialState.COMPLETE),\n",
              " FrozenTrial(number=26, value=29.000778103785866, datetime_start=datetime.datetime(2020, 8, 13, 0, 12, 19, 799317), datetime_complete=datetime.datetime(2020, 8, 13, 0, 12, 19, 801571), params={'x': 7.385237051772732}, distributions={'x': UniformDistribution(high=10, low=-10)}, user_attrs={}, system_attrs={}, intermediate_values={}, trial_id=26, state=TrialState.COMPLETE),\n",
              " FrozenTrial(number=27, value=0.31428631179884453, datetime_start=datetime.datetime(2020, 8, 13, 0, 12, 19, 806359), datetime_complete=datetime.datetime(2020, 8, 13, 0, 12, 19, 808507), params={'x': 2.56061244349269}, distributions={'x': UniformDistribution(high=10, low=-10)}, user_attrs={}, system_attrs={}, intermediate_values={}, trial_id=27, state=TrialState.COMPLETE),\n",
              " FrozenTrial(number=28, value=5.996744825725494, datetime_start=datetime.datetime(2020, 8, 13, 0, 12, 19, 813348), datetime_complete=datetime.datetime(2020, 8, 13, 0, 12, 19, 815685), params={'x': -0.4488251929701912}, distributions={'x': UniformDistribution(high=10, low=-10)}, user_attrs={}, system_attrs={}, intermediate_values={}, trial_id=28, state=TrialState.COMPLETE),\n",
              " FrozenTrial(number=29, value=36.87709381042444, datetime_start=datetime.datetime(2020, 8, 13, 0, 12, 19, 819434), datetime_complete=datetime.datetime(2020, 8, 13, 0, 12, 19, 821579), params={'x': -4.07265129992036}, distributions={'x': UniformDistribution(high=10, low=-10)}, user_attrs={}, system_attrs={}, intermediate_values={}, trial_id=29, state=TrialState.COMPLETE),\n",
              " FrozenTrial(number=30, value=16.031534264386774, datetime_start=datetime.datetime(2020, 8, 13, 0, 12, 19, 825580), datetime_complete=datetime.datetime(2020, 8, 13, 0, 12, 19, 827499), params={'x': -2.003939842753232}, distributions={'x': UniformDistribution(high=10, low=-10)}, user_attrs={}, system_attrs={}, intermediate_values={}, trial_id=30, state=TrialState.COMPLETE),\n",
              " FrozenTrial(number=31, value=0.103239042876901, datetime_start=datetime.datetime(2020, 8, 13, 0, 12, 19, 831659), datetime_complete=datetime.datetime(2020, 8, 13, 0, 12, 19, 833434), params={'x': 1.6786916700785661}, distributions={'x': UniformDistribution(high=10, low=-10)}, user_attrs={}, system_attrs={}, intermediate_values={}, trial_id=31, state=TrialState.COMPLETE),\n",
              " FrozenTrial(number=32, value=2.4240132488426673, datetime_start=datetime.datetime(2020, 8, 13, 0, 12, 19, 840228), datetime_complete=datetime.datetime(2020, 8, 13, 0, 12, 19, 842151), params={'x': 0.4430757086991457}, distributions={'x': UniformDistribution(high=10, low=-10)}, user_attrs={}, system_attrs={}, intermediate_values={}, trial_id=32, state=TrialState.COMPLETE),\n",
              " FrozenTrial(number=33, value=0.0902057773387009, datetime_start=datetime.datetime(2020, 8, 13, 0, 12, 19, 847571), datetime_complete=datetime.datetime(2020, 8, 13, 0, 12, 19, 850662), params={'x': 2.3003427664164744}, distributions={'x': UniformDistribution(high=10, low=-10)}, user_attrs={}, system_attrs={}, intermediate_values={}, trial_id=33, state=TrialState.COMPLETE),\n",
              " FrozenTrial(number=34, value=4.630897470471052, datetime_start=datetime.datetime(2020, 8, 13, 0, 12, 19, 858096), datetime_complete=datetime.datetime(2020, 8, 13, 0, 12, 19, 861150), params={'x': 4.1519520139796455}, distributions={'x': UniformDistribution(high=10, low=-10)}, user_attrs={}, system_attrs={}, intermediate_values={}, trial_id=34, state=TrialState.COMPLETE),\n",
              " FrozenTrial(number=35, value=1.2071159045161302, datetime_start=datetime.datetime(2020, 8, 13, 0, 12, 19, 865585), datetime_complete=datetime.datetime(2020, 8, 13, 0, 12, 19, 867856), params={'x': 3.0986882653947525}, distributions={'x': UniformDistribution(high=10, low=-10)}, user_attrs={}, system_attrs={}, intermediate_values={}, trial_id=35, state=TrialState.COMPLETE),\n",
              " FrozenTrial(number=36, value=9.704433634263266, datetime_start=datetime.datetime(2020, 8, 13, 0, 12, 19, 872697), datetime_complete=datetime.datetime(2020, 8, 13, 0, 12, 19, 875027), params={'x': 5.115193996248591}, distributions={'x': UniformDistribution(high=10, low=-10)}, user_attrs={}, system_attrs={}, intermediate_values={}, trial_id=36, state=TrialState.COMPLETE),\n",
              " FrozenTrial(number=37, value=0.00038576023558256823, datetime_start=datetime.datetime(2020, 8, 13, 0, 12, 19, 878745), datetime_complete=datetime.datetime(2020, 8, 13, 0, 12, 19, 881025), params={'x': 1.9803592200872122}, distributions={'x': UniformDistribution(high=10, low=-10)}, user_attrs={}, system_attrs={}, intermediate_values={}, trial_id=37, state=TrialState.COMPLETE),\n",
              " FrozenTrial(number=38, value=38.20731727655398, datetime_start=datetime.datetime(2020, 8, 13, 0, 12, 19, 885794), datetime_complete=datetime.datetime(2020, 8, 13, 0, 12, 19, 888328), params={'x': 8.181206781572186}, distributions={'x': UniformDistribution(high=10, low=-10)}, user_attrs={}, system_attrs={}, intermediate_values={}, trial_id=38, state=TrialState.COMPLETE),\n",
              " FrozenTrial(number=39, value=10.49445178294857, datetime_start=datetime.datetime(2020, 8, 13, 0, 12, 19, 893137), datetime_complete=datetime.datetime(2020, 8, 13, 0, 12, 19, 895490), params={'x': -1.2395141276044113}, distributions={'x': UniformDistribution(high=10, low=-10)}, user_attrs={}, system_attrs={}, intermediate_values={}, trial_id=39, state=TrialState.COMPLETE),\n",
              " FrozenTrial(number=40, value=2.717049656196296, datetime_start=datetime.datetime(2020, 8, 13, 0, 12, 19, 899748), datetime_complete=datetime.datetime(2020, 8, 13, 0, 12, 19, 902048), params={'x': 0.3516524467830531}, distributions={'x': UniformDistribution(high=10, low=-10)}, user_attrs={}, system_attrs={}, intermediate_values={}, trial_id=40, state=TrialState.COMPLETE),\n",
              " FrozenTrial(number=41, value=0.019073124637519128, datetime_start=datetime.datetime(2020, 8, 13, 0, 12, 19, 906231), datetime_complete=datetime.datetime(2020, 8, 13, 0, 12, 19, 908563), params={'x': 2.1381054837344236}, distributions={'x': UniformDistribution(high=10, low=-10)}, user_attrs={}, system_attrs={}, intermediate_values={}, trial_id=41, state=TrialState.COMPLETE),\n",
              " FrozenTrial(number=42, value=2.141227723799462, datetime_start=datetime.datetime(2020, 8, 13, 0, 12, 19, 912820), datetime_complete=datetime.datetime(2020, 8, 13, 0, 12, 19, 915164), params={'x': 3.4632934510204922}, distributions={'x': UniformDistribution(high=10, low=-10)}, user_attrs={}, system_attrs={}, intermediate_values={}, trial_id=42, state=TrialState.COMPLETE),\n",
              " FrozenTrial(number=43, value=0.23652162110651437, datetime_start=datetime.datetime(2020, 8, 13, 0, 12, 19, 919470), datetime_complete=datetime.datetime(2020, 8, 13, 0, 12, 19, 921901), params={'x': 1.513665114240697}, distributions={'x': UniformDistribution(high=10, low=-10)}, user_attrs={}, system_attrs={}, intermediate_values={}, trial_id=43, state=TrialState.COMPLETE),\n",
              " FrozenTrial(number=44, value=2.1817452276497704, datetime_start=datetime.datetime(2020, 8, 13, 0, 12, 19, 926147), datetime_complete=datetime.datetime(2020, 8, 13, 0, 12, 19, 928434), params={'x': 3.4770731964428068}, distributions={'x': UniformDistribution(high=10, low=-10)}, user_attrs={}, system_attrs={}, intermediate_values={}, trial_id=44, state=TrialState.COMPLETE),\n",
              " FrozenTrial(number=45, value=18.238803099753657, datetime_start=datetime.datetime(2020, 8, 13, 0, 12, 19, 932590), datetime_complete=datetime.datetime(2020, 8, 13, 0, 12, 19, 934616), params={'x': 6.27069117354014}, distributions={'x': UniformDistribution(high=10, low=-10)}, user_attrs={}, system_attrs={}, intermediate_values={}, trial_id=45, state=TrialState.COMPLETE),\n",
              " FrozenTrial(number=46, value=2.4736592429943293e-05, datetime_start=datetime.datetime(2020, 8, 13, 0, 12, 19, 938997), datetime_complete=datetime.datetime(2020, 8, 13, 0, 12, 19, 941302), params={'x': 2.0049735894914984}, distributions={'x': UniformDistribution(high=10, low=-10)}, user_attrs={}, system_attrs={}, intermediate_values={}, trial_id=46, state=TrialState.COMPLETE),\n",
              " FrozenTrial(number=47, value=3.3082829516523686, datetime_start=datetime.datetime(2020, 8, 13, 0, 12, 19, 945667), datetime_complete=datetime.datetime(2020, 8, 13, 0, 12, 19, 948038), params={'x': 0.18113140891037194}, distributions={'x': UniformDistribution(high=10, low=-10)}, user_attrs={}, system_attrs={}, intermediate_values={}, trial_id=47, state=TrialState.COMPLETE),\n",
              " FrozenTrial(number=48, value=9.592894885506318, datetime_start=datetime.datetime(2020, 8, 13, 0, 12, 19, 952481), datetime_complete=datetime.datetime(2020, 8, 13, 0, 12, 19, 955130), params={'x': 5.097239881815149}, distributions={'x': UniformDistribution(high=10, low=-10)}, user_attrs={}, system_attrs={}, intermediate_values={}, trial_id=48, state=TrialState.COMPLETE),\n",
              " FrozenTrial(number=49, value=0.2123508763967226, datetime_start=datetime.datetime(2020, 8, 13, 0, 12, 19, 959301), datetime_complete=datetime.datetime(2020, 8, 13, 0, 12, 19, 961764), params={'x': 1.539184552779833}, distributions={'x': UniformDistribution(high=10, low=-10)}, user_attrs={}, system_attrs={}, intermediate_values={}, trial_id=49, state=TrialState.COMPLETE),\n",
              " FrozenTrial(number=50, value=25.50523355209203, datetime_start=datetime.datetime(2020, 8, 13, 0, 12, 19, 965894), datetime_complete=datetime.datetime(2020, 8, 13, 0, 12, 19, 968216), params={'x': -3.0502706414698246}, distributions={'x': UniformDistribution(high=10, low=-10)}, user_attrs={}, system_attrs={}, intermediate_values={}, trial_id=50, state=TrialState.COMPLETE),\n",
              " FrozenTrial(number=51, value=6.0702196526737195e-05, datetime_start=datetime.datetime(2020, 8, 13, 0, 12, 19, 972333), datetime_complete=datetime.datetime(2020, 8, 13, 0, 12, 19, 974929), params={'x': 2.007791161436316}, distributions={'x': UniformDistribution(high=10, low=-10)}, user_attrs={}, system_attrs={}, intermediate_values={}, trial_id=51, state=TrialState.COMPLETE),\n",
              " FrozenTrial(number=52, value=0.008783141447066668, datetime_start=datetime.datetime(2020, 8, 13, 0, 12, 19, 979164), datetime_complete=datetime.datetime(2020, 8, 13, 0, 12, 19, 981428), params={'x': 2.09371841573067}, distributions={'x': UniformDistribution(high=10, low=-10)}, user_attrs={}, system_attrs={}, intermediate_values={}, trial_id=52, state=TrialState.COMPLETE),\n",
              " FrozenTrial(number=53, value=3.2730262134329364, datetime_start=datetime.datetime(2020, 8, 13, 0, 12, 19, 985481), datetime_complete=datetime.datetime(2020, 8, 13, 0, 12, 19, 987850), params={'x': 3.8091506884261843}, distributions={'x': UniformDistribution(high=10, low=-10)}, user_attrs={}, system_attrs={}, intermediate_values={}, trial_id=53, state=TrialState.COMPLETE),\n",
              " FrozenTrial(number=54, value=1.1918050977623613, datetime_start=datetime.datetime(2020, 8, 13, 0, 12, 19, 992013), datetime_complete=datetime.datetime(2020, 8, 13, 0, 12, 19, 997889), params={'x': 0.9083017368510833}, distributions={'x': UniformDistribution(high=10, low=-10)}, user_attrs={}, system_attrs={}, intermediate_values={}, trial_id=54, state=TrialState.COMPLETE),\n",
              " FrozenTrial(number=55, value=8.279252501820636, datetime_start=datetime.datetime(2020, 8, 13, 0, 12, 20, 4519), datetime_complete=datetime.datetime(2020, 8, 13, 0, 12, 20, 7228), params={'x': -0.8773690242686352}, distributions={'x': UniformDistribution(high=10, low=-10)}, user_attrs={}, system_attrs={}, intermediate_values={}, trial_id=55, state=TrialState.COMPLETE),\n",
              " FrozenTrial(number=56, value=0.006401808430551348, datetime_start=datetime.datetime(2020, 8, 13, 0, 12, 20, 11631), datetime_complete=datetime.datetime(2020, 8, 13, 0, 12, 20, 14208), params={'x': 2.080011301892616}, distributions={'x': UniformDistribution(high=10, low=-10)}, user_attrs={}, system_attrs={}, intermediate_values={}, trial_id=56, state=TrialState.COMPLETE),\n",
              " FrozenTrial(number=57, value=1.5108635756446214, datetime_start=datetime.datetime(2020, 8, 13, 0, 12, 20, 18421), datetime_complete=datetime.datetime(2020, 8, 13, 0, 12, 20, 20887), params={'x': 3.22917190646574}, distributions={'x': UniformDistribution(high=10, low=-10)}, user_attrs={}, system_attrs={}, intermediate_values={}, trial_id=57, state=TrialState.COMPLETE),\n",
              " FrozenTrial(number=58, value=0.9165505648084762, datetime_start=datetime.datetime(2020, 8, 13, 0, 12, 20, 25224), datetime_complete=datetime.datetime(2020, 8, 13, 0, 12, 20, 27810), params={'x': 1.0426335263816284}, distributions={'x': UniformDistribution(high=10, low=-10)}, user_attrs={}, system_attrs={}, intermediate_values={}, trial_id=58, state=TrialState.COMPLETE),\n",
              " FrozenTrial(number=59, value=6.996319957274854, datetime_start=datetime.datetime(2020, 8, 13, 0, 12, 20, 31987), datetime_complete=datetime.datetime(2020, 8, 13, 0, 12, 20, 34681), params={'x': 4.645055756931194}, distributions={'x': UniformDistribution(high=10, low=-10)}, user_attrs={}, system_attrs={}, intermediate_values={}, trial_id=59, state=TrialState.COMPLETE),\n",
              " FrozenTrial(number=60, value=4.989797427448874, datetime_start=datetime.datetime(2020, 8, 13, 0, 12, 20, 38993), datetime_complete=datetime.datetime(2020, 8, 13, 0, 12, 20, 41431), params={'x': -0.2337854479445589}, distributions={'x': UniformDistribution(high=10, low=-10)}, user_attrs={}, system_attrs={}, intermediate_values={}, trial_id=60, state=TrialState.COMPLETE),\n",
              " FrozenTrial(number=61, value=0.00925118580094063, datetime_start=datetime.datetime(2020, 8, 13, 0, 12, 20, 45626), datetime_complete=datetime.datetime(2020, 8, 13, 0, 12, 20, 48176), params={'x': 2.0961830847963436}, distributions={'x': UniformDistribution(high=10, low=-10)}, user_attrs={}, system_attrs={}, intermediate_values={}, trial_id=61, state=TrialState.COMPLETE),\n",
              " FrozenTrial(number=62, value=0.9675968915295733, datetime_start=datetime.datetime(2020, 8, 13, 0, 12, 20, 52374), datetime_complete=datetime.datetime(2020, 8, 13, 0, 12, 20, 54816), params={'x': 2.9836650301447}, distributions={'x': UniformDistribution(high=10, low=-10)}, user_attrs={}, system_attrs={}, intermediate_values={}, trial_id=62, state=TrialState.COMPLETE),\n",
              " FrozenTrial(number=63, value=0.0742340012259451, datetime_start=datetime.datetime(2020, 8, 13, 0, 12, 20, 59022), datetime_complete=datetime.datetime(2020, 8, 13, 0, 12, 20, 61522), params={'x': 2.2724591735030133}, distributions={'x': UniformDistribution(high=10, low=-10)}, user_attrs={}, system_attrs={}, intermediate_values={}, trial_id=63, state=TrialState.COMPLETE),\n",
              " FrozenTrial(number=64, value=0.05201238510501792, datetime_start=datetime.datetime(2020, 8, 13, 0, 12, 20, 65851), datetime_complete=datetime.datetime(2020, 8, 13, 0, 12, 20, 68204), params={'x': 1.771937760457769}, distributions={'x': UniformDistribution(high=10, low=-10)}, user_attrs={}, system_attrs={}, intermediate_values={}, trial_id=64, state=TrialState.COMPLETE),\n",
              " FrozenTrial(number=65, value=0.7831818835526375, datetime_start=datetime.datetime(2020, 8, 13, 0, 12, 20, 72397), datetime_complete=datetime.datetime(2020, 8, 13, 0, 12, 20, 74993), params={'x': 1.1150243599100382}, distributions={'x': UniformDistribution(high=10, low=-10)}, user_attrs={}, system_attrs={}, intermediate_values={}, trial_id=65, state=TrialState.COMPLETE),\n",
              " FrozenTrial(number=66, value=3.119178922568652, datetime_start=datetime.datetime(2020, 8, 13, 0, 12, 20, 79217), datetime_complete=datetime.datetime(2020, 8, 13, 0, 12, 20, 81664), params={'x': 3.766119736192496}, distributions={'x': UniformDistribution(high=10, low=-10)}, user_attrs={}, system_attrs={}, intermediate_values={}, trial_id=66, state=TrialState.COMPLETE),\n",
              " FrozenTrial(number=67, value=96.62541214947827, datetime_start=datetime.datetime(2020, 8, 13, 0, 12, 20, 86016), datetime_complete=datetime.datetime(2020, 8, 13, 0, 12, 20, 88526), params={'x': -7.829822589928989}, distributions={'x': UniformDistribution(high=10, low=-10)}, user_attrs={}, system_attrs={}, intermediate_values={}, trial_id=67, state=TrialState.COMPLETE),\n",
              " FrozenTrial(number=68, value=0.5139868121165188, datetime_start=datetime.datetime(2020, 8, 13, 0, 12, 20, 93132), datetime_complete=datetime.datetime(2020, 8, 13, 0, 12, 20, 95841), params={'x': 2.716928735730769}, distributions={'x': UniformDistribution(high=10, low=-10)}, user_attrs={}, system_attrs={}, intermediate_values={}, trial_id=68, state=TrialState.COMPLETE),\n",
              " FrozenTrial(number=69, value=13.58908139683364, datetime_start=datetime.datetime(2020, 8, 13, 0, 12, 20, 99762), datetime_complete=datetime.datetime(2020, 8, 13, 0, 12, 20, 102432), params={'x': -1.6863371246853753}, distributions={'x': UniformDistribution(high=10, low=-10)}, user_attrs={}, system_attrs={}, intermediate_values={}, trial_id=69, state=TrialState.COMPLETE),\n",
              " FrozenTrial(number=70, value=2.222110570738893, datetime_start=datetime.datetime(2020, 8, 13, 0, 12, 20, 106780), datetime_complete=datetime.datetime(2020, 8, 13, 0, 12, 20, 109638), params={'x': 0.5093254645165186}, distributions={'x': UniformDistribution(high=10, low=-10)}, user_attrs={}, system_attrs={}, intermediate_values={}, trial_id=70, state=TrialState.COMPLETE),\n",
              " FrozenTrial(number=71, value=0.0013840589293696354, datetime_start=datetime.datetime(2020, 8, 13, 0, 12, 20, 113322), datetime_complete=datetime.datetime(2020, 8, 13, 0, 12, 20, 116400), params={'x': 2.0372029424826805}, distributions={'x': UniformDistribution(high=10, low=-10)}, user_attrs={}, system_attrs={}, intermediate_values={}, trial_id=71, state=TrialState.COMPLETE),\n",
              " FrozenTrial(number=72, value=0.019329556877652147, datetime_start=datetime.datetime(2020, 8, 13, 0, 12, 20, 121342), datetime_complete=datetime.datetime(2020, 8, 13, 0, 12, 20, 124502), params={'x': 1.86096922327178}, distributions={'x': UniformDistribution(high=10, low=-10)}, user_attrs={}, system_attrs={}, intermediate_values={}, trial_id=72, state=TrialState.COMPLETE),\n",
              " FrozenTrial(number=73, value=0.5401957002604891, datetime_start=datetime.datetime(2020, 8, 13, 0, 12, 20, 129325), datetime_complete=datetime.datetime(2020, 8, 13, 0, 12, 20, 132847), params={'x': 2.734980067934151}, distributions={'x': UniformDistribution(high=10, low=-10)}, user_attrs={}, system_attrs={}, intermediate_values={}, trial_id=73, state=TrialState.COMPLETE),\n",
              " FrozenTrial(number=74, value=7.518079362120043, datetime_start=datetime.datetime(2020, 8, 13, 0, 12, 20, 137314), datetime_complete=datetime.datetime(2020, 8, 13, 0, 12, 20, 140362), params={'x': -0.7419116255123983}, distributions={'x': UniformDistribution(high=10, low=-10)}, user_attrs={}, system_attrs={}, intermediate_values={}, trial_id=74, state=TrialState.COMPLETE),\n",
              " FrozenTrial(number=75, value=4.046983972916099, datetime_start=datetime.datetime(2020, 8, 13, 0, 12, 20, 145113), datetime_complete=datetime.datetime(2020, 8, 13, 0, 12, 20, 148167), params={'x': 4.011711702236704}, distributions={'x': UniformDistribution(high=10, low=-10)}, user_attrs={}, system_attrs={}, intermediate_values={}, trial_id=75, state=TrialState.COMPLETE),\n",
              " FrozenTrial(number=76, value=14.104625549678977, datetime_start=datetime.datetime(2020, 8, 13, 0, 12, 20, 158052), datetime_complete=datetime.datetime(2020, 8, 13, 0, 12, 20, 161191), params={'x': 5.755612539876681}, distributions={'x': UniformDistribution(high=10, low=-10)}, user_attrs={}, system_attrs={}, intermediate_values={}, trial_id=76, state=TrialState.COMPLETE),\n",
              " FrozenTrial(number=77, value=0.6562520088412034, datetime_start=datetime.datetime(2020, 8, 13, 0, 12, 20, 166170), datetime_complete=datetime.datetime(2020, 8, 13, 0, 12, 20, 169174), params={'x': 1.1899061728162574}, distributions={'x': UniformDistribution(high=10, low=-10)}, user_attrs={}, system_attrs={}, intermediate_values={}, trial_id=77, state=TrialState.COMPLETE),\n",
              " FrozenTrial(number=78, value=4.032722375966866, datetime_start=datetime.datetime(2020, 8, 13, 0, 12, 20, 174172), datetime_complete=datetime.datetime(2020, 8, 13, 0, 12, 20, 177207), params={'x': -0.008163931547140013}, distributions={'x': UniformDistribution(high=10, low=-10)}, user_attrs={}, system_attrs={}, intermediate_values={}, trial_id=78, state=TrialState.COMPLETE),\n",
              " FrozenTrial(number=79, value=6.5730200735017865, datetime_start=datetime.datetime(2020, 8, 13, 0, 12, 20, 182061), datetime_complete=datetime.datetime(2020, 8, 13, 0, 12, 20, 185184), params={'x': 4.563790177354962}, distributions={'x': UniformDistribution(high=10, low=-10)}, user_attrs={}, system_attrs={}, intermediate_values={}, trial_id=79, state=TrialState.COMPLETE),\n",
              " FrozenTrial(number=80, value=0.006139304258879387, datetime_start=datetime.datetime(2020, 8, 13, 0, 12, 20, 189957), datetime_complete=datetime.datetime(2020, 8, 13, 0, 12, 20, 192985), params={'x': 2.0783537124766873}, distributions={'x': UniformDistribution(high=10, low=-10)}, user_attrs={}, system_attrs={}, intermediate_values={}, trial_id=80, state=TrialState.COMPLETE),\n",
              " FrozenTrial(number=81, value=0.01899943463438589, datetime_start=datetime.datetime(2020, 8, 13, 0, 12, 20, 197953), datetime_complete=datetime.datetime(2020, 8, 13, 0, 12, 20, 201007), params={'x': 2.1378384367090177}, distributions={'x': UniformDistribution(high=10, low=-10)}, user_attrs={}, system_attrs={}, intermediate_values={}, trial_id=81, state=TrialState.COMPLETE),\n",
              " FrozenTrial(number=82, value=1.6893289661142643, datetime_start=datetime.datetime(2020, 8, 13, 0, 12, 20, 205599), datetime_complete=datetime.datetime(2020, 8, 13, 0, 12, 20, 208793), params={'x': 0.7002581155805341}, distributions={'x': UniformDistribution(high=10, low=-10)}, user_attrs={}, system_attrs={}, intermediate_values={}, trial_id=82, state=TrialState.COMPLETE),\n",
              " FrozenTrial(number=83, value=1.1219992831957384, datetime_start=datetime.datetime(2020, 8, 13, 0, 12, 20, 213516), datetime_complete=datetime.datetime(2020, 8, 13, 0, 12, 20, 216742), params={'x': 3.0592446757929626}, distributions={'x': UniformDistribution(high=10, low=-10)}, user_attrs={}, system_attrs={}, intermediate_values={}, trial_id=83, state=TrialState.COMPLETE),\n",
              " FrozenTrial(number=84, value=0.09304553045059198, datetime_start=datetime.datetime(2020, 8, 13, 0, 12, 20, 221697), datetime_complete=datetime.datetime(2020, 8, 13, 0, 12, 20, 224888), params={'x': 1.6949663453803958}, distributions={'x': UniformDistribution(high=10, low=-10)}, user_attrs={}, system_attrs={}, intermediate_values={}, trial_id=84, state=TrialState.COMPLETE),\n",
              " FrozenTrial(number=85, value=0.33146015844166543, datetime_start=datetime.datetime(2020, 8, 13, 0, 12, 20, 229604), datetime_complete=datetime.datetime(2020, 8, 13, 0, 12, 20, 232717), params={'x': 2.5757257666994464}, distributions={'x': UniformDistribution(high=10, low=-10)}, user_attrs={}, system_attrs={}, intermediate_values={}, trial_id=85, state=TrialState.COMPLETE),\n",
              " FrozenTrial(number=86, value=0.41583496630394806, datetime_start=datetime.datetime(2020, 8, 13, 0, 12, 20, 237467), datetime_complete=datetime.datetime(2020, 8, 13, 0, 12, 20, 240636), params={'x': 1.3551473297690797}, distributions={'x': UniformDistribution(high=10, low=-10)}, user_attrs={}, system_attrs={}, intermediate_values={}, trial_id=86, state=TrialState.COMPLETE),\n",
              " FrozenTrial(number=87, value=1.9209752826018085, datetime_start=datetime.datetime(2020, 8, 13, 0, 12, 20, 245021), datetime_complete=datetime.datetime(2020, 8, 13, 0, 12, 20, 247897), params={'x': 3.385992526170978}, distributions={'x': UniformDistribution(high=10, low=-10)}, user_attrs={}, system_attrs={}, intermediate_values={}, trial_id=87, state=TrialState.COMPLETE),\n",
              " FrozenTrial(number=88, value=0.11086842534809296, datetime_start=datetime.datetime(2020, 8, 13, 0, 12, 20, 252753), datetime_complete=datetime.datetime(2020, 8, 13, 0, 12, 20, 256296), params={'x': 2.3329691056961486}, distributions={'x': UniformDistribution(high=10, low=-10)}, user_attrs={}, system_attrs={}, intermediate_values={}, trial_id=88, state=TrialState.COMPLETE),\n",
              " FrozenTrial(number=89, value=0.011408879449136764, datetime_start=datetime.datetime(2020, 8, 13, 0, 12, 20, 262131), datetime_complete=datetime.datetime(2020, 8, 13, 0, 12, 20, 266150), params={'x': 1.8931876437431663}, distributions={'x': UniformDistribution(high=10, low=-10)}, user_attrs={}, system_attrs={}, intermediate_values={}, trial_id=89, state=TrialState.COMPLETE),\n",
              " FrozenTrial(number=90, value=3.052370507026637, datetime_start=datetime.datetime(2020, 8, 13, 0, 12, 20, 272023), datetime_complete=datetime.datetime(2020, 8, 13, 0, 12, 20, 275741), params={'x': 0.25289653797302636}, distributions={'x': UniformDistribution(high=10, low=-10)}, user_attrs={}, system_attrs={}, intermediate_values={}, trial_id=90, state=TrialState.COMPLETE),\n",
              " FrozenTrial(number=91, value=0.02586841983918299, datetime_start=datetime.datetime(2020, 8, 13, 0, 12, 20, 280486), datetime_complete=datetime.datetime(2020, 8, 13, 0, 12, 20, 283591), params={'x': 1.8391633753177374}, distributions={'x': UniformDistribution(high=10, low=-10)}, user_attrs={}, system_attrs={}, intermediate_values={}, trial_id=91, state=TrialState.COMPLETE),\n",
              " FrozenTrial(number=92, value=1.8623194192184571, datetime_start=datetime.datetime(2020, 8, 13, 0, 12, 20, 288349), datetime_complete=datetime.datetime(2020, 8, 13, 0, 12, 20, 291404), params={'x': 0.6353317548874902}, distributions={'x': UniformDistribution(high=10, low=-10)}, user_attrs={}, system_attrs={}, intermediate_values={}, trial_id=92, state=TrialState.COMPLETE),\n",
              " FrozenTrial(number=93, value=0.5408830386621974, datetime_start=datetime.datetime(2020, 8, 13, 0, 12, 20, 295884), datetime_complete=datetime.datetime(2020, 8, 13, 0, 12, 20, 299060), params={'x': 1.264552490885857}, distributions={'x': UniformDistribution(high=10, low=-10)}, user_attrs={}, system_attrs={}, intermediate_values={}, trial_id=93, state=TrialState.COMPLETE),\n",
              " FrozenTrial(number=94, value=1.4103152824832632, datetime_start=datetime.datetime(2020, 8, 13, 0, 12, 20, 303998), datetime_complete=datetime.datetime(2020, 8, 13, 0, 12, 20, 307451), params={'x': 3.187566959157783}, distributions={'x': UniformDistribution(high=10, low=-10)}, user_attrs={}, system_attrs={}, intermediate_values={}, trial_id=94, state=TrialState.COMPLETE),\n",
              " FrozenTrial(number=95, value=4.715294688440204, datetime_start=datetime.datetime(2020, 8, 13, 0, 12, 20, 312488), datetime_complete=datetime.datetime(2020, 8, 13, 0, 12, 20, 315931), params={'x': 4.171472930625709}, distributions={'x': UniformDistribution(high=10, low=-10)}, user_attrs={}, system_attrs={}, intermediate_values={}, trial_id=95, state=TrialState.COMPLETE),\n",
              " FrozenTrial(number=96, value=0.046655652343580496, datetime_start=datetime.datetime(2020, 8, 13, 0, 12, 20, 321419), datetime_complete=datetime.datetime(2020, 8, 13, 0, 12, 20, 324745), params={'x': 2.2159991952382705}, distributions={'x': UniformDistribution(high=10, low=-10)}, user_attrs={}, system_attrs={}, intermediate_values={}, trial_id=96, state=TrialState.COMPLETE),\n",
              " FrozenTrial(number=97, value=6.261848758950844, datetime_start=datetime.datetime(2020, 8, 13, 0, 12, 20, 329978), datetime_complete=datetime.datetime(2020, 8, 13, 0, 12, 20, 333196), params={'x': -0.5023686297088292}, distributions={'x': UniformDistribution(high=10, low=-10)}, user_attrs={}, system_attrs={}, intermediate_values={}, trial_id=97, state=TrialState.COMPLETE),\n",
              " FrozenTrial(number=98, value=0.6068099503191168, datetime_start=datetime.datetime(2020, 8, 13, 0, 12, 20, 337218), datetime_complete=datetime.datetime(2020, 8, 13, 0, 12, 20, 339809), params={'x': 2.778980070553231}, distributions={'x': UniformDistribution(high=10, low=-10)}, user_attrs={}, system_attrs={}, intermediate_values={}, trial_id=98, state=TrialState.COMPLETE),\n",
              " FrozenTrial(number=99, value=0.00017601509241031179, datetime_start=datetime.datetime(2020, 8, 13, 0, 12, 20, 344844), datetime_complete=datetime.datetime(2020, 8, 13, 0, 12, 20, 348027), params={'x': 1.9867329320341565}, distributions={'x': UniformDistribution(high=10, low=-10)}, user_attrs={}, system_attrs={}, intermediate_values={}, trial_id=99, state=TrialState.COMPLETE)]"
            ]
          },
          "metadata": {
            "tags": []
          },
          "execution_count": 8
        }
      ]
    },
    {
      "cell_type": "markdown",
      "metadata": {
        "id": "sCrJR9EsK9a1",
        "colab_type": "text"
      },
      "source": [
        "Saving/Resuming Study with RDB Backend"
      ]
    },
    {
      "cell_type": "code",
      "metadata": {
        "id": "gxUrnkusKokh",
        "colab_type": "code",
        "colab": {
          "base_uri": "https://localhost:8080/",
          "height": 34
        },
        "outputId": "ebc268e1-3b58-4354-f7df-dff435bbe2d3"
      },
      "source": [
        "study_name = 'example-study'  # Unique identifier of the study.\n",
        "study = optuna.create_study(study_name=study_name, storage='sqlite:///example.db')"
      ],
      "execution_count": null,
      "outputs": [
        {
          "output_type": "stream",
          "text": [
            "[I 2020-08-13 00:15:34,070] A new study created with name: example-study\n"
          ],
          "name": "stderr"
        }
      ]
    },
    {
      "cell_type": "code",
      "metadata": {
        "id": "EOhI2x8XLAJ3",
        "colab_type": "code",
        "colab": {
          "base_uri": "https://localhost:8080/",
          "height": 68
        },
        "outputId": "e6c9f914-b5b3-47d2-bba4-bdddf67560c5"
      },
      "source": [
        "def objective(trial):\n",
        "    x = trial.suggest_uniform('x', -10, 10)\n",
        "    return (x - 2) ** 2\n",
        "\n",
        "study.optimize(objective, n_trials=3)"
      ],
      "execution_count": null,
      "outputs": [
        {
          "output_type": "stream",
          "text": [
            "[I 2020-08-13 00:15:42,010] Trial 0 finished with value: 81.02053016793866 and parameters: {'x': -7.001140492623068}. Best is trial 0 with value: 81.02053016793866.\n",
            "[I 2020-08-13 00:15:42,064] Trial 1 finished with value: 0.5023136740696312 and parameters: {'x': 1.2912590924254257}. Best is trial 1 with value: 0.5023136740696312.\n",
            "[I 2020-08-13 00:15:42,118] Trial 2 finished with value: 9.417507528216463 and parameters: {'x': 5.068795778186692}. Best is trial 1 with value: 0.5023136740696312.\n"
          ],
          "name": "stderr"
        }
      ]
    },
    {
      "cell_type": "code",
      "metadata": {
        "id": "9EKD2pb4LCIV",
        "colab_type": "code",
        "colab": {
          "base_uri": "https://localhost:8080/",
          "height": 85
        },
        "outputId": "052ec07d-a657-4d5f-eb68-89fbdb5d9039"
      },
      "source": [
        "study = optuna.create_study(study_name='example-study', storage='sqlite:///example.db', load_if_exists=True)\n",
        "study.optimize(objective, n_trials=3)"
      ],
      "execution_count": null,
      "outputs": [
        {
          "output_type": "stream",
          "text": [
            "[I 2020-08-13 00:15:50,903] Using an existing study with name 'example-study' instead of creating a new one.\n",
            "[I 2020-08-13 00:15:50,985] Trial 3 finished with value: 46.851699000627434 and parameters: {'x': -4.844830092896933}. Best is trial 1 with value: 0.5023136740696312.\n",
            "[I 2020-08-13 00:15:51,036] Trial 4 finished with value: 41.45835538416835 and parameters: {'x': -4.438816303030267}. Best is trial 1 with value: 0.5023136740696312.\n",
            "[I 2020-08-13 00:15:51,087] Trial 5 finished with value: 140.8211439693846 and parameters: {'x': -9.866808499735074}. Best is trial 1 with value: 0.5023136740696312.\n"
          ],
          "name": "stderr"
        }
      ]
    },
    {
      "cell_type": "markdown",
      "metadata": {
        "id": "F25Fi3PBLbrB",
        "colab_type": "text"
      },
      "source": [
        "Adding User Attributes to Trials"
      ]
    },
    {
      "cell_type": "code",
      "metadata": {
        "id": "dVqM_uroLEK3",
        "colab_type": "code",
        "colab": {}
      },
      "source": [
        "def objective(trial):\n",
        "    iris = sklearn.datasets.load_iris()\n",
        "    classes = list(set(iris.target))\n",
        "    train_x, valid_x, train_y, valid_y = \\\n",
        "        sklearn.model_selection.train_test_split(iris.data, iris.target, test_size=0.25, random_state=0)\n",
        "\n",
        "    alpha = trial.suggest_loguniform('alpha', 1e-5, 1e-1)\n",
        "    clf = sklearn.linear_model.SGDClassifier(alpha=alpha)\n",
        "\n",
        "    for step in range(100):\n",
        "        clf.partial_fit(train_x, train_y, classes=classes)\n",
        "\n",
        "        # Report intermediate objective value.\n",
        "        intermediate_value = 1.0 - clf.score(valid_x, valid_y)\n",
        "        trial.report(intermediate_value, step)\n",
        "\n",
        "        # Handle pruning based on the intermediate value.\n",
        "        if trial.should_prune():\n",
        "            raise optuna.TrialPruned()\n",
        "\n",
        "    return 1.0 - clf.score(valid_x, valid_y)"
      ],
      "execution_count": null,
      "outputs": []
    },
    {
      "cell_type": "code",
      "metadata": {
        "id": "e6hqmYLdLe-M",
        "colab_type": "code",
        "colab": {
          "base_uri": "https://localhost:8080/",
          "height": 304,
          "referenced_widgets": [
            "9c55d651448d48e399ccfefde93a1ca8",
            "987da8cc3dfd490a8e664682f335d1ad",
            "ac2f6d0c749a4721b864e5ce567ab264",
            "9e64b5cea49e49448d46402f6d41c05e",
            "c35be5ab1b154ba9a2a429fe19a7d626",
            "9be2b1ee41fd422db93226417780bcb5",
            "2868080d26284eb2af17dca59b6c4e10",
            "21532154d706408aa74a14f1f960bcfb"
          ]
        },
        "outputId": "72a2d20b-a8ea-448b-cfab-65c20c1af5bc"
      },
      "source": [
        "# Set up the median stopping rule as the pruning condition.\n",
        "study = optuna.create_study(pruner=optuna.pruners.MedianPruner())\n",
        "study.optimize(objective, n_trials=10, show_progress_bar=True)\n"
      ],
      "execution_count": 20,
      "outputs": [
        {
          "output_type": "stream",
          "text": [
            "/usr/local/lib/python3.6/dist-packages/optuna/progress_bar.py:46: ExperimentalWarning:\n",
            "\n",
            "Progress bar is experimental (supported from v1.2.0). The interface can change in the future.\n",
            "\n"
          ],
          "name": "stderr"
        },
        {
          "output_type": "display_data",
          "data": {
            "application/vnd.jupyter.widget-view+json": {
              "model_id": "9c55d651448d48e399ccfefde93a1ca8",
              "version_minor": 0,
              "version_major": 2
            },
            "text/plain": [
              "HBox(children=(FloatProgress(value=0.0, max=10.0), HTML(value='')))"
            ]
          },
          "metadata": {
            "tags": []
          }
        },
        {
          "output_type": "stream",
          "text": [
            "[I 2020-08-13 00:23:38,182] Trial 0 finished with value: 0.046666666666666634 and parameters: {'svc_c': 1523.6052010131348}. Best is trial 0 with value: 0.046666666666666634.\n",
            "[I 2020-08-13 00:23:38,219] Trial 1 finished with value: 0.07333333333333325 and parameters: {'svc_c': 6.050682744658366e-05}. Best is trial 0 with value: 0.046666666666666634.\n",
            "[I 2020-08-13 00:23:38,250] Trial 2 finished with value: 0.05999999999999994 and parameters: {'svc_c': 41331802.45300117}. Best is trial 0 with value: 0.046666666666666634.\n",
            "[I 2020-08-13 00:23:38,289] Trial 3 finished with value: 0.05999999999999994 and parameters: {'svc_c': 735704585.9005775}. Best is trial 0 with value: 0.046666666666666634.\n",
            "[I 2020-08-13 00:23:38,313] Trial 4 finished with value: 0.05999999999999994 and parameters: {'svc_c': 1505378.6281976933}. Best is trial 0 with value: 0.046666666666666634.\n",
            "[I 2020-08-13 00:23:38,335] Trial 5 finished with value: 0.013333333333333308 and parameters: {'svc_c': 6.3099061611224725}. Best is trial 5 with value: 0.013333333333333308.\n",
            "[I 2020-08-13 00:23:38,359] Trial 6 finished with value: 0.046666666666666634 and parameters: {'svc_c': 4139.570906663689}. Best is trial 5 with value: 0.013333333333333308.\n",
            "[I 2020-08-13 00:23:38,397] Trial 7 finished with value: 0.05999999999999994 and parameters: {'svc_c': 325581252.4616984}. Best is trial 5 with value: 0.013333333333333308.\n",
            "[I 2020-08-13 00:23:38,424] Trial 8 finished with value: 0.05999999999999994 and parameters: {'svc_c': 138069164.13785577}. Best is trial 5 with value: 0.013333333333333308.\n",
            "[I 2020-08-13 00:23:38,452] Trial 9 finished with value: 0.07333333333333325 and parameters: {'svc_c': 1.3473557271359183e-09}. Best is trial 5 with value: 0.013333333333333308.\n",
            "\n"
          ],
          "name": "stdout"
        }
      ]
    },
    {
      "cell_type": "code",
      "metadata": {
        "id": "eSHzWulpMS7G",
        "colab_type": "code",
        "colab": {}
      },
      "source": [
        ""
      ],
      "execution_count": null,
      "outputs": []
    }
  ]
}