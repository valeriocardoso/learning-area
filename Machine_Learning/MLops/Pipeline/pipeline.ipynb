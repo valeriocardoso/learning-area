{
 "metadata": {
  "language_info": {
   "codemirror_mode": {
    "name": "ipython",
    "version": 3
   },
   "file_extension": ".py",
   "mimetype": "text/x-python",
   "name": "python",
   "nbconvert_exporter": "python",
   "pygments_lexer": "ipython3",
   "version": "3.8.2-final"
  },
  "orig_nbformat": 2,
  "kernelspec": {
   "name": "python38264bitmlopspipenvc4617877eeab4f47b7e8be86ee02d86a",
   "display_name": "Python 3.8.2 64-bit ('MLops': pipenv)"
  }
 },
 "nbformat": 4,
 "nbformat_minor": 2,
 "cells": [
  {
   "cell_type": "code",
   "execution_count": 1,
   "metadata": {},
   "outputs": [],
   "source": [
    "\n",
    "import pandas as pd\n",
    "import numpy as np\n",
    "from pipeline import OtherTransformer "
   ]
  },
  {
   "cell_type": "code",
   "execution_count": 2,
   "metadata": {},
   "outputs": [],
   "source": [
    "\n",
    "# Definindo vetor de cores\n",
    "colors = ['Vermelho','Azul', 'Amarelo', 'Preto']\n",
    "# Definindo a probabilidade das cores aparecerem no dataframe\n",
    "pcolors = [0.35, 0.25, 0.39, 0.01]\n",
    "# Definindo vetor de marcas\n",
    "mark = ['Fiat', 'Chrevolet', 'Ford']\n",
    "# Definindo a probabilidade das marcas aparecerem no dataframe\n",
    "pmark = [0.45, 0.53, 0.02]\n",
    "# Criando o dataframe\n",
    "data = pd.DataFrame({'Cor':np.random.choice(colors, 1000, p=pcolors), \n",
    "                     'Marca': np.random.choice(mark, 1000, p=pmark)})"
   ]
  },
  {
   "cell_type": "code",
   "execution_count": 6,
   "metadata": {},
   "outputs": [
    {
     "output_type": "execute_result",
     "data": {
      "text/plain": "Chrevolet    552\nFiat         425\nFord          23\nName: Marca, dtype: int64"
     },
     "metadata": {},
     "execution_count": 6
    }
   ],
   "source": [
    "data.Marca.value_counts()"
   ]
  },
  {
   "cell_type": "code",
   "execution_count": 4,
   "metadata": {},
   "outputs": [],
   "source": [
    "ot = OtherTransformer()\n",
    "transformed_data = ot.fit_transform(data)"
   ]
  },
  {
   "cell_type": "code",
   "execution_count": 5,
   "metadata": {},
   "outputs": [
    {
     "output_type": "execute_result",
     "data": {
      "text/plain": "Chrevolet    552\nFiat         425\nOther         23\nName: Marca, dtype: int64"
     },
     "metadata": {},
     "execution_count": 5
    }
   ],
   "source": [
    "transformed_data.Marca.value_counts()"
   ]
  },
  {
   "cell_type": "code",
   "execution_count": null,
   "metadata": {},
   "outputs": [],
   "source": []
  }
 ]
}