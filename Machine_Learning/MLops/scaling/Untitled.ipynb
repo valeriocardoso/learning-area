{
 "cells": [
  {
   "cell_type": "code",
   "execution_count": 2,
   "metadata": {},
   "outputs": [],
   "source": [
    "import pandas as pd\n",
    "import ray"
   ]
  },
  {
   "cell_type": "code",
   "execution_count": 3,
   "metadata": {},
   "outputs": [
    {
     "name": "stderr",
     "output_type": "stream",
     "text": [
      "2020-08-09 21:46:31,773\tINFO resource_spec.py:204 -- Starting Ray with 6.35 GiB memory available for workers and up to 3.19 GiB for objects. You can adjust these settings with ray.init(memory=<bytes>, object_store_memory=<bytes>).\n",
      "2020-08-09 21:46:31,993\tWARNING services.py:923 -- Redis failed to start, retrying now.\n",
      "2020-08-09 21:46:32,230\tINFO services.py:1163 -- View the Ray dashboard at \u001b[1m\u001b[32mlocalhost:8265\u001b[39m\u001b[22m\n"
     ]
    },
    {
     "data": {
      "text/plain": [
       "{'node_ip_address': '192.168.15.12',\n",
       " 'raylet_ip_address': '192.168.15.12',\n",
       " 'redis_address': '192.168.15.12:6379',\n",
       " 'object_store_address': '/tmp/ray/session_2020-08-09_21-46-31_745473_40500/sockets/plasma_store',\n",
       " 'raylet_socket_name': '/tmp/ray/session_2020-08-09_21-46-31_745473_40500/sockets/raylet',\n",
       " 'webui_url': 'localhost:8265',\n",
       " 'session_dir': '/tmp/ray/session_2020-08-09_21-46-31_745473_40500'}"
      ]
     },
     "execution_count": 3,
     "metadata": {},
     "output_type": "execute_result"
    }
   ],
   "source": [
    "ray.init()"
   ]
  },
  {
   "cell_type": "markdown",
   "metadata": {},
   "source": [
    "Execute Python functions in parallel."
   ]
  },
  {
   "cell_type": "code",
   "execution_count": 8,
   "metadata": {},
   "outputs": [
    {
     "name": "stdout",
     "output_type": "stream",
     "text": [
      "[0, 1, 4, 9]\n"
     ]
    }
   ],
   "source": [
    "@ray.remote\n",
    "def f(x):\n",
    "    return x*x\n",
    "\n",
    "futures = [f.remote(i) for i in range(4)]\n",
    "print(ray.get(futures))"
   ]
  },
  {
   "cell_type": "markdown",
   "metadata": {},
   "source": [
    "To use Ray's actor model:"
   ]
  },
  {
   "cell_type": "code",
   "execution_count": 10,
   "metadata": {},
   "outputs": [
    {
     "name": "stdout",
     "output_type": "stream",
     "text": [
      "[1, 1, 1, 1]\n"
     ]
    }
   ],
   "source": [
    "@ray.remote\n",
    "class Counter(object):\n",
    "    def __init__(self):\n",
    "        self.n = 0\n",
    "\n",
    "    def increment(self):\n",
    "        self.n += 1\n",
    "\n",
    "    def read(self):\n",
    "        return self.n\n",
    "\n",
    "counters = [Counter.remote() for i in range(4)]\n",
    "[c.increment.remote() for c in counters]\n",
    "futures = [c.read.remote() for c in counters]\n",
    "print(ray.get(futures))"
   ]
  },
  {
   "cell_type": "markdown",
   "metadata": {},
   "source": [
    "This example runs a parallel grid search to optimize an example objective function."
   ]
  },
  {
   "cell_type": "code",
   "execution_count": 11,
   "metadata": {},
   "outputs": [
    {
     "name": "stderr",
     "output_type": "stream",
     "text": [
      "2020-08-09 21:52:36,479\tWARNING tune.py:318 -- Tune detects GPUs, but no trials are using GPUs. To enable trials to use GPUs, set tune.run(resources_per_trial={'gpu': 1}...) which allows Tune to expose 1 GPU to each trial. You can also override `Trainable.default_resource_request` if using the Trainable API.\n"
     ]
    },
    {
     "data": {
      "text/html": [
       "== Status ==<br>Memory usage on this node: 6.4/15.4 GiB<br>Using FIFO scheduling algorithm.<br>Resources requested: 1/8 CPUs, 0/1 GPUs, 0.0/6.35 GiB heap, 0.0/2.2 GiB objects<br>Result logdir: /home/valeriocardoso/ray_results/training_function<br>Number of trials: 3 (2 PENDING, 1 RUNNING)<br><table>\n",
       "<thead>\n",
       "<tr><th>Trial name                   </th><th>status  </th><th>loc  </th><th style=\"text-align: right;\">  alpha</th><th style=\"text-align: right;\">  beta</th></tr>\n",
       "</thead>\n",
       "<tbody>\n",
       "<tr><td>training_function_c8647_00000</td><td>RUNNING </td><td>     </td><td style=\"text-align: right;\">  0.001</td><td style=\"text-align: right;\">     2</td></tr>\n",
       "<tr><td>training_function_c8647_00001</td><td>PENDING </td><td>     </td><td style=\"text-align: right;\">  0.01 </td><td style=\"text-align: right;\">     1</td></tr>\n",
       "<tr><td>training_function_c8647_00002</td><td>PENDING </td><td>     </td><td style=\"text-align: right;\">  0.1  </td><td style=\"text-align: right;\">     3</td></tr>\n",
       "</tbody>\n",
       "</table><br><br>"
      ],
      "text/plain": [
       "<IPython.core.display.HTML object>"
      ]
     },
     "metadata": {},
     "output_type": "display_data"
    },
    {
     "name": "stderr",
     "output_type": "stream",
     "text": [
      "2020-08-09 21:52:36,862\tINFO logger.py:269 -- Removed the following hyperparameter values when logging to tensorboard: {'beta': 2}\n",
      "2020-08-09 21:52:36,943\tINFO logger.py:269 -- Removed the following hyperparameter values when logging to tensorboard: {'beta': 1}\n",
      "2020-08-09 21:52:36,991\tINFO logger.py:269 -- Removed the following hyperparameter values when logging to tensorboard: {'beta': 3}\n"
     ]
    },
    {
     "name": "stdout",
     "output_type": "stream",
     "text": [
      "Result for training_function_c8647_00000:\n",
      "  date: 2020-08-09_21-52-36\n",
      "  done: false\n",
      "  experiment_id: 7d354c57482d47b19ff0328b24499941\n",
      "  experiment_tag: 0_alpha=0.001,beta=2\n",
      "  hostname: pop-os\n",
      "  iterations_since_restore: 1\n",
      "  mean_loss: 10.2\n",
      "  neg_mean_loss: -10.2\n",
      "  node_ip: 192.168.15.12\n",
      "  pid: 40595\n",
      "  time_since_restore: 0.00020813941955566406\n",
      "  time_this_iter_s: 0.00020813941955566406\n",
      "  time_total_s: 0.00020813941955566406\n",
      "  timestamp: 1597020756\n",
      "  timesteps_since_restore: 0\n",
      "  training_iteration: 1\n",
      "  trial_id: c8647_00000\n",
      "  \n",
      "Result for training_function_c8647_00001:\n",
      "  date: 2020-08-09_21-52-36\n",
      "  done: false\n",
      "  experiment_id: 11975935dc6643af8abf282fb511ee56\n",
      "  experiment_tag: 1_alpha=0.01,beta=1\n",
      "  hostname: pop-os\n",
      "  iterations_since_restore: 1\n",
      "  mean_loss: 10.1\n",
      "  neg_mean_loss: -10.1\n",
      "  node_ip: 192.168.15.12\n",
      "  pid: 40598\n",
      "  time_since_restore: 0.00020813941955566406\n",
      "  time_this_iter_s: 0.00020813941955566406\n",
      "  time_total_s: 0.00020813941955566406\n",
      "  timestamp: 1597020756\n",
      "  timesteps_since_restore: 0\n",
      "  training_iteration: 1\n",
      "  trial_id: c8647_00001\n",
      "  \n",
      "Result for training_function_c8647_00002:\n",
      "  date: 2020-08-09_21-52-36\n",
      "  done: false\n",
      "  experiment_id: 9922dcf989134bf8b68fd8de70e02851\n",
      "  experiment_tag: 2_alpha=0.1,beta=3\n",
      "  hostname: pop-os\n",
      "  iterations_since_restore: 1\n",
      "  mean_loss: 10.3\n",
      "  neg_mean_loss: -10.3\n",
      "  node_ip: 192.168.15.12\n",
      "  pid: 40594\n",
      "  time_since_restore: 0.00024890899658203125\n",
      "  time_this_iter_s: 0.00024890899658203125\n",
      "  time_total_s: 0.00024890899658203125\n",
      "  timestamp: 1597020756\n",
      "  timesteps_since_restore: 0\n",
      "  training_iteration: 1\n",
      "  trial_id: c8647_00002\n",
      "  \n"
     ]
    },
    {
     "data": {
      "text/html": [
       "== Status ==<br>Memory usage on this node: 6.5/15.4 GiB<br>Using FIFO scheduling algorithm.<br>Resources requested: 0/8 CPUs, 0/1 GPUs, 0.0/6.35 GiB heap, 0.0/2.2 GiB objects<br>Result logdir: /home/valeriocardoso/ray_results/training_function<br>Number of trials: 3 (3 TERMINATED)<br><table>\n",
       "<thead>\n",
       "<tr><th>Trial name                   </th><th>status    </th><th>loc  </th><th style=\"text-align: right;\">  alpha</th><th style=\"text-align: right;\">  beta</th><th style=\"text-align: right;\">    loss</th><th style=\"text-align: right;\">  iter</th><th style=\"text-align: right;\">  total time (s)</th></tr>\n",
       "</thead>\n",
       "<tbody>\n",
       "<tr><td>training_function_c8647_00000</td><td>TERMINATED</td><td>     </td><td style=\"text-align: right;\">  0.001</td><td style=\"text-align: right;\">     2</td><td style=\"text-align: right;\">10.191  </td><td style=\"text-align: right;\">    10</td><td style=\"text-align: right;\">       0.0446551</td></tr>\n",
       "<tr><td>training_function_c8647_00001</td><td>TERMINATED</td><td>     </td><td style=\"text-align: right;\">  0.01 </td><td style=\"text-align: right;\">     1</td><td style=\"text-align: right;\">10.0108 </td><td style=\"text-align: right;\">    10</td><td style=\"text-align: right;\">       0.0858841</td></tr>\n",
       "<tr><td>training_function_c8647_00002</td><td>TERMINATED</td><td>     </td><td style=\"text-align: right;\">  0.1  </td><td style=\"text-align: right;\">     3</td><td style=\"text-align: right;\"> 9.47431</td><td style=\"text-align: right;\">    10</td><td style=\"text-align: right;\">       0.123712 </td></tr>\n",
       "</tbody>\n",
       "</table><br><br>"
      ],
      "text/plain": [
       "<IPython.core.display.HTML object>"
      ]
     },
     "metadata": {},
     "output_type": "display_data"
    },
    {
     "name": "stdout",
     "output_type": "stream",
     "text": [
      "Best config:  {'alpha': 0.1, 'beta': 3}\n"
     ]
    }
   ],
   "source": [
    "from ray import tune\n",
    "\n",
    "\n",
    "def objective(step, alpha, beta):\n",
    "    return (0.1 + alpha * step / 100)**(-1) + beta * 0.1\n",
    "\n",
    "\n",
    "def training_function(config):\n",
    "    # Hyperparameters\n",
    "    alpha, beta = config[\"alpha\"], config[\"beta\"]\n",
    "    for step in range(10):\n",
    "        # Iterative training function - can be any arbitrary training procedure.\n",
    "        intermediate_score = objective(step, alpha, beta)\n",
    "        # Feed the score back back to Tune.\n",
    "        tune.report(mean_loss=intermediate_score)\n",
    "\n",
    "\n",
    "analysis = tune.run(\n",
    "    training_function,\n",
    "    config={\n",
    "        \"alpha\": tune.grid_search([0.001, 0.01, 0.1]),\n",
    "        \"beta\": tune.choice([1, 2, 3])\n",
    "    })\n",
    "\n",
    "print(\"Best config: \", analysis.get_best_config(metric=\"mean_loss\"))\n",
    "\n",
    "# Get a dataframe for analyzing trial results.\n",
    "df = analysis.dataframe()"
   ]
  },
  {
   "cell_type": "code",
   "execution_count": null,
   "metadata": {},
   "outputs": [],
   "source": []
  }
 ],
 "metadata": {
  "kernelspec": {
   "display_name": "Python 3",
   "language": "python",
   "name": "python3"
  },
  "language_info": {
   "codemirror_mode": {
    "name": "ipython",
    "version": 3
   },
   "file_extension": ".py",
   "mimetype": "text/x-python",
   "name": "python",
   "nbconvert_exporter": "python",
   "pygments_lexer": "ipython3",
   "version": "3.8.2"
  }
 },
 "nbformat": 4,
 "nbformat_minor": 4
}
