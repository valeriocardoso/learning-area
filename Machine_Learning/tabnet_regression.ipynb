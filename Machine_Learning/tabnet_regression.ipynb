{
  "nbformat": 4,
  "nbformat_minor": 0,
  "metadata": {
    "kernelspec": {
      "display_name": "Python 3",
      "language": "python",
      "name": "python3"
    },
    "language_info": {
      "codemirror_mode": {
        "name": "ipython",
        "version": 3
      },
      "file_extension": ".py",
      "mimetype": "text/x-python",
      "name": "python",
      "nbconvert_exporter": "python",
      "pygments_lexer": "ipython3",
      "version": "3.7.5"
    },
    "colab": {
      "name": "tablnet regression.ipynb",
      "provenance": [],
      "include_colab_link": true
    }
  },
  "cells": [
    {
      "cell_type": "markdown",
      "metadata": {
        "id": "view-in-github",
        "colab_type": "text"
      },
      "source": [
        "<a href=\"https://colab.research.google.com/github/valeriocardoso/learning-area/blob/master/Machine_Learning/tabnet_regression.ipynb\" target=\"_parent\"><img src=\"https://colab.research.google.com/assets/colab-badge.svg\" alt=\"Open In Colab\"/></a>"
      ]
    },
    {
      "cell_type": "code",
      "metadata": {
        "id": "coj07b8r8tXL",
        "colab_type": "code",
        "colab": {
          "base_uri": "https://localhost:8080/",
          "height": 153
        },
        "outputId": "8bef5d5c-1c9e-4346-9932-752424318ceb"
      },
      "source": [
        "!pip install pytorch-tabnet"
      ],
      "execution_count": 2,
      "outputs": [
        {
          "output_type": "stream",
          "text": [
            "Reading package lists... Done\n",
            "Building dependency tree       \n",
            "Reading state information... Done\n",
            "wget is already the newest version (1.19.4-1ubuntu2.2).\n",
            "The following package was automatically installed and is no longer required:\n",
            "  libnvidia-common-440\n",
            "Use 'apt autoremove' to remove it.\n",
            "0 upgraded, 0 newly installed, 0 to remove and 35 not upgraded.\n"
          ],
          "name": "stdout"
        }
      ]
    },
    {
      "cell_type": "code",
      "metadata": {
        "id": "bqEirVXT8ZxA",
        "colab_type": "code",
        "colab": {}
      },
      "source": [
        "from pytorch_tabnet.tab_model import TabNetRegressor\n",
        "\n",
        "import torch\n",
        "from sklearn.preprocessing import LabelEncoder\n",
        "from sklearn.metrics import mean_squared_error\n",
        "\n",
        "import pandas as pd\n",
        "import numpy as np\n",
        "np.random.seed(0)\n",
        "\n",
        "\n",
        "import os\n",
        "#import wget\n",
        "from pathlib import Path"
      ],
      "execution_count": 5,
      "outputs": []
    },
    {
      "cell_type": "code",
      "metadata": {
        "id": "2OR2dBrF8saV",
        "colab_type": "code",
        "colab": {}
      },
      "source": [
        ""
      ],
      "execution_count": null,
      "outputs": []
    },
    {
      "cell_type": "markdown",
      "metadata": {
        "id": "T0GfFPMN8ZxF",
        "colab_type": "text"
      },
      "source": [
        "# Download census-income dataset"
      ]
    },
    {
      "cell_type": "code",
      "metadata": {
        "id": "iDkKTiLp8ZxG",
        "colab_type": "code",
        "colab": {}
      },
      "source": [
        "url = \"https://archive.ics.uci.edu/ml/machine-learning-databases/adult/adult.data\"\n",
        "dataset_name = 'census-income'\n",
        "out = Path(os.getcwd()+'/data/'+dataset_name+'.csv')"
      ],
      "execution_count": 7,
      "outputs": []
    },
    {
      "cell_type": "code",
      "metadata": {
        "id": "v7JfwHE68ZxJ",
        "colab_type": "code",
        "colab": {
          "base_uri": "https://localhost:8080/",
          "height": 214
        },
        "outputId": "27622463-78a1-47df-f74c-ead72857064f"
      },
      "source": [
        "out.parent.mkdir(parents=True, exist_ok=True)\n",
        "if out.exists():\n",
        "    print(\"File already exists.\")\n",
        "else:\n",
        "    print(\"Downloading file...\")\n",
        "    wget.download(url, out.as_posix())"
      ],
      "execution_count": 8,
      "outputs": [
        {
          "output_type": "stream",
          "text": [
            "Downloading file...\n"
          ],
          "name": "stdout"
        },
        {
          "output_type": "error",
          "ename": "NameError",
          "evalue": "ignored",
          "traceback": [
            "\u001b[0;31m---------------------------------------------------------------------------\u001b[0m",
            "\u001b[0;31mNameError\u001b[0m                                 Traceback (most recent call last)",
            "\u001b[0;32m<ipython-input-8-b40db0d7f356>\u001b[0m in \u001b[0;36m<module>\u001b[0;34m()\u001b[0m\n\u001b[1;32m      4\u001b[0m \u001b[0;32melse\u001b[0m\u001b[0;34m:\u001b[0m\u001b[0;34m\u001b[0m\u001b[0;34m\u001b[0m\u001b[0m\n\u001b[1;32m      5\u001b[0m     \u001b[0mprint\u001b[0m\u001b[0;34m(\u001b[0m\u001b[0;34m\"Downloading file...\"\u001b[0m\u001b[0;34m)\u001b[0m\u001b[0;34m\u001b[0m\u001b[0;34m\u001b[0m\u001b[0m\n\u001b[0;32m----> 6\u001b[0;31m     \u001b[0mwget\u001b[0m\u001b[0;34m.\u001b[0m\u001b[0mdownload\u001b[0m\u001b[0;34m(\u001b[0m\u001b[0murl\u001b[0m\u001b[0;34m,\u001b[0m \u001b[0mout\u001b[0m\u001b[0;34m.\u001b[0m\u001b[0mas_posix\u001b[0m\u001b[0;34m(\u001b[0m\u001b[0;34m)\u001b[0m\u001b[0;34m)\u001b[0m\u001b[0;34m\u001b[0m\u001b[0;34m\u001b[0m\u001b[0m\n\u001b[0m",
            "\u001b[0;31mNameError\u001b[0m: name 'wget' is not defined"
          ]
        }
      ]
    },
    {
      "cell_type": "markdown",
      "metadata": {
        "id": "b_U8PAIw8ZxN",
        "colab_type": "text"
      },
      "source": [
        "# Load data and split"
      ]
    },
    {
      "cell_type": "code",
      "metadata": {
        "id": "g5wzIcCm8ZxN",
        "colab_type": "code",
        "colab": {}
      },
      "source": [
        "train = pd.read_csv(url)\n",
        "target = ' <=50K'\n",
        "if \"Set\" not in train.columns:\n",
        "    train[\"Set\"] = np.random.choice([\"train\", \"valid\", \"test\"], p =[.8, .1, .1], size=(train.shape[0],))\n",
        "\n",
        "train_indices = train[train.Set==\"train\"].index\n",
        "valid_indices = train[train.Set==\"valid\"].index\n",
        "test_indices = train[train.Set==\"test\"].index"
      ],
      "execution_count": 9,
      "outputs": []
    },
    {
      "cell_type": "markdown",
      "metadata": {
        "id": "hoxbAvr_8ZxR",
        "colab_type": "text"
      },
      "source": [
        "# Simple preprocessing\n",
        "\n",
        "Label encode categorical features and fill empty cells."
      ]
    },
    {
      "cell_type": "code",
      "metadata": {
        "id": "FAEnIGIm8ZxS",
        "colab_type": "code",
        "colab": {
          "base_uri": "https://localhost:8080/",
          "height": 187
        },
        "outputId": "45af5f9a-9121-40e7-8793-989d812fab43"
      },
      "source": [
        "categorical_columns = []\n",
        "categorical_dims =  {}\n",
        "for col in train.columns[train.dtypes == object]:\n",
        "    print(col, train[col].nunique())\n",
        "    l_enc = LabelEncoder()\n",
        "    train[col] = train[col].fillna(\"VV_likely\")\n",
        "    train[col] = l_enc.fit_transform(train[col].values)\n",
        "    categorical_columns.append(col)\n",
        "    categorical_dims[col] = len(l_enc.classes_)\n",
        "\n",
        "for col in train.columns[train.dtypes == 'float64']:\n",
        "    train.fillna(train.loc[train_indices, col].mean(), inplace=True)"
      ],
      "execution_count": 11,
      "outputs": [
        {
          "output_type": "stream",
          "text": [
            " State-gov 9\n",
            " Bachelors 16\n",
            " Never-married 7\n",
            " Adm-clerical 15\n",
            " Not-in-family 6\n",
            " White 5\n",
            " Male 2\n",
            " United-States 42\n",
            " <=50K 2\n",
            "Set 3\n"
          ],
          "name": "stdout"
        }
      ]
    },
    {
      "cell_type": "markdown",
      "metadata": {
        "id": "VSToV-TL8ZxX",
        "colab_type": "text"
      },
      "source": [
        "# Define categorical features for categorical embeddings"
      ]
    },
    {
      "cell_type": "code",
      "metadata": {
        "id": "OKXUgqAs8ZxY",
        "colab_type": "code",
        "colab": {}
      },
      "source": [
        "unused_feat = ['Set']\n",
        "\n",
        "features = [ col for col in train.columns if col not in unused_feat+[target]] \n",
        "\n",
        "cat_idxs = [ i for i, f in enumerate(features) if f in categorical_columns]\n",
        "\n",
        "cat_dims = [ categorical_dims[f] for i, f in enumerate(features) if f in categorical_columns]\n",
        "\n",
        "# define your embedding sizes : here just a random choice\n",
        "cat_emb_dim = [5, 4, 3, 6, 2, 2, 1, 10]"
      ],
      "execution_count": 12,
      "outputs": []
    },
    {
      "cell_type": "markdown",
      "metadata": {
        "id": "RyU_MQyu8Zxe",
        "colab_type": "text"
      },
      "source": [
        "# Network parameters"
      ]
    },
    {
      "cell_type": "code",
      "metadata": {
        "id": "MnLxqtYQ8Zxf",
        "colab_type": "code",
        "colab": {
          "base_uri": "https://localhost:8080/",
          "height": 34
        },
        "outputId": "3a8c7d6c-1b70-4792-e71e-a5b2e9321547"
      },
      "source": [
        "clf = TabNetRegressor(cat_dims=cat_dims, cat_emb_dim=cat_emb_dim, cat_idxs=cat_idxs)"
      ],
      "execution_count": 13,
      "outputs": [
        {
          "output_type": "stream",
          "text": [
            "Device used : cpu\n"
          ],
          "name": "stdout"
        }
      ]
    },
    {
      "cell_type": "markdown",
      "metadata": {
        "id": "BS5b9azJ8Zxk",
        "colab_type": "text"
      },
      "source": [
        "# Training"
      ]
    },
    {
      "cell_type": "code",
      "metadata": {
        "id": "4n0NwtE48Zxl",
        "colab_type": "code",
        "colab": {}
      },
      "source": [
        "X_train = train[features].values[train_indices]\n",
        "y_train = train[target].values[train_indices].reshape(-1, 1)\n",
        "\n",
        "X_valid = train[features].values[valid_indices]\n",
        "y_valid = train[target].values[valid_indices].reshape(-1, 1)\n",
        "\n",
        "X_test = train[features].values[test_indices]\n",
        "y_test = train[target].values[test_indices].reshape(-1, 1)"
      ],
      "execution_count": 14,
      "outputs": []
    },
    {
      "cell_type": "code",
      "metadata": {
        "id": "zYtlubgF8Zxr",
        "colab_type": "code",
        "colab": {}
      },
      "source": [
        "max_epochs = 1000 if not os.getenv(\"CI\", False) else 2"
      ],
      "execution_count": 15,
      "outputs": []
    },
    {
      "cell_type": "code",
      "metadata": {
        "scrolled": true,
        "id": "OvpxO7o18Zxv",
        "colab_type": "code",
        "colab": {
          "base_uri": "https://localhost:8080/",
          "height": 1000
        },
        "outputId": "a1dc6c8e-e9f0-4312-ce41-91bab355e4d3"
      },
      "source": [
        "clf.fit(\n",
        "    X_train=X_train, y_train=y_train,\n",
        "    X_valid=X_valid, y_valid=y_valid,\n",
        "    max_epochs=max_epochs,\n",
        "    patience=50,\n",
        "    batch_size=1024, virtual_batch_size=128,\n",
        "    num_workers=0,\n",
        "    drop_last=False\n",
        ") "
      ],
      "execution_count": 16,
      "outputs": [
        {
          "output_type": "stream",
          "text": [
            "Will train until validation stopping metric hasn't improved in 50 rounds.\n",
            "---------------------------------------\n",
            "| EPOCH |  train  |   valid  | total time (s)\n",
            "| 1     | -0.17045 |  -0.86570 |   3.1       \n",
            "| 2     | -0.13398 |  -0.20867 |   6.1       \n",
            "| 3     | -0.12756 |  -0.17134 |   9.0       \n",
            "| 4     | -0.12095 |  -0.17055 |   11.9      \n",
            "| 5     | -0.11727 |  -0.13422 |   14.9      \n",
            "| 6     | -0.11426 |  -0.12485 |   17.8      \n",
            "| 7     | -0.11170 |  -0.11234 |   20.8      \n",
            "| 8     | -0.11031 |  -0.11402 |   23.8      \n",
            "| 9     | -0.10903 |  -0.10687 |   26.7      \n",
            "| 10    | -0.10790 |  -0.10859 |   29.6      \n",
            "| 11    | -0.10747 |  -0.10499 |   32.5      \n",
            "| 12    | -0.10813 |  -0.10386 |   35.4      \n",
            "| 13    | -0.10625 |  -0.10199 |   38.3      \n",
            "| 14    | -0.10485 |  -0.10296 |   41.3      \n",
            "| 15    | -0.10464 |  -0.10235 |   44.1      \n",
            "| 16    | -0.10448 |  -0.10380 |   47.0      \n",
            "| 17    | -0.10518 |  -0.10203 |   49.9      \n",
            "| 18    | -0.10385 |  -0.10125 |   52.8      \n",
            "| 19    | -0.10315 |  -0.10304 |   55.6      \n",
            "| 20    | -0.10205 |  -0.10037 |   58.6      \n",
            "| 21    | -0.10311 |  -0.09973 |   61.5      \n",
            "| 22    | -0.10142 |  -0.10060 |   64.4      \n",
            "| 23    | -0.10125 |  -0.09861 |   67.4      \n",
            "| 24    | -0.10138 |  -0.09955 |   70.2      \n",
            "| 25    | -0.10112 |  -0.09914 |   73.1      \n",
            "| 26    | -0.10061 |  -0.10096 |   76.1      \n",
            "| 27    | -0.10140 |  -0.10076 |   79.0      \n",
            "| 28    | -0.10082 |  -0.09809 |   81.8      \n",
            "| 29    | -0.10092 |  -0.10351 |   84.7      \n",
            "| 30    | -0.10118 |  -0.09931 |   87.6      \n",
            "| 31    | -0.09912 |  -0.09832 |   90.5      \n",
            "| 32    | -0.09926 |  -0.09884 |   93.3      \n",
            "| 33    | -0.09923 |  -0.09876 |   96.2      \n",
            "| 34    | -0.09907 |  -0.09788 |   99.1      \n",
            "| 35    | -0.09956 |  -0.09740 |   102.0     \n",
            "| 36    | -0.09840 |  -0.09946 |   104.8     \n",
            "| 37    | -0.09798 |  -0.09773 |   107.8     \n",
            "| 38    | -0.09812 |  -0.09882 |   110.7     \n",
            "| 39    | -0.09870 |  -0.09770 |   113.7     \n",
            "| 40    | -0.09839 |  -0.09872 |   116.5     \n",
            "| 41    | -0.09825 |  -0.09792 |   119.5     \n",
            "| 42    | -0.09793 |  -0.09819 |   122.4     \n",
            "| 43    | -0.09716 |  -0.09823 |   125.2     \n",
            "| 44    | -0.09757 |  -0.09761 |   128.1     \n",
            "| 45    | -0.09749 |  -0.10257 |   131.0     \n",
            "| 46    | -0.09850 |  -0.09837 |   133.9     \n",
            "| 47    | -0.09663 |  -0.09864 |   136.7     \n",
            "| 48    | -0.09642 |  -0.09904 |   139.8     \n",
            "| 49    | -0.09613 |  -0.09805 |   142.6     \n",
            "| 50    | -0.09706 |  -0.09767 |   145.8     \n",
            "| 51    | -0.09629 |  -0.10048 |   148.7     \n",
            "| 52    | -0.09661 |  -0.09719 |   151.7     \n",
            "| 53    | -0.09596 |  -0.09773 |   154.6     \n",
            "| 54    | -0.09585 |  -0.09871 |   157.5     \n",
            "| 55    | -0.09507 |  -0.09963 |   160.4     \n",
            "| 56    | -0.09592 |  -0.09738 |   163.2     \n",
            "| 57    | -0.09443 |  -0.10049 |   166.1     \n",
            "| 58    | -0.09453 |  -0.10061 |   169.0     \n",
            "| 59    | -0.09423 |  -0.09905 |   172.0     \n",
            "| 60    | -0.09511 |  -0.10016 |   174.8     \n",
            "| 61    | -0.09627 |  -0.10021 |   177.7     \n",
            "| 62    | -0.09609 |  -0.09961 |   180.6     \n",
            "| 63    | -0.09803 |  -0.09985 |   183.5     \n",
            "| 64    | -0.09704 |  -0.09958 |   186.4     \n",
            "| 65    | -0.09681 |  -0.09849 |   189.3     \n",
            "| 66    | -0.09606 |  -0.09981 |   192.2     \n",
            "| 67    | -0.09500 |  -0.10148 |   195.1     \n",
            "| 68    | -0.09423 |  -0.09891 |   198.0     \n",
            "| 69    | -0.09399 |  -0.10027 |   200.9     \n",
            "| 70    | -0.09421 |  -0.10264 |   203.8     \n",
            "| 71    | -0.09420 |  -0.10262 |   206.7     \n",
            "| 72    | -0.09446 |  -0.09898 |   209.6     \n",
            "| 73    | -0.09364 |  -0.10198 |   212.4     \n",
            "| 74    | -0.09403 |  -0.10131 |   215.4     \n",
            "| 75    | -0.09481 |  -0.10189 |   218.5     \n",
            "| 76    | -0.09412 |  -0.10288 |   221.4     \n",
            "| 77    | -0.09462 |  -0.10688 |   224.4     \n",
            "| 78    | -0.09493 |  -0.10288 |   227.4     \n",
            "| 79    | -0.09336 |  -0.10181 |   230.5     \n",
            "| 80    | -0.09352 |  -0.10025 |   233.4     \n",
            "| 81    | -0.09406 |  -0.10248 |   236.3     \n",
            "| 82    | -0.09355 |  -0.10217 |   239.1     \n",
            "| 83    | -0.09448 |  -0.10066 |   242.0     \n",
            "| 84    | -0.09261 |  -0.10162 |   244.9     \n",
            "| 85    | -0.09254 |  -0.10063 |   247.8     \n",
            "| 86    | -0.09178 |  -0.10529 |   250.7     \n",
            "| 87    | -0.09314 |  -0.10456 |   253.7     \n",
            "| 88    | -0.09164 |  -0.10373 |   256.6     \n",
            "| 89    | -0.09181 |  -0.10373 |   259.7     \n",
            "| 90    | -0.09301 |  -0.10204 |   262.6     \n",
            "| 91    | -0.09299 |  -0.10019 |   265.5     \n",
            "| 92    | -0.09204 |  -0.10379 |   268.4     \n",
            "| 93    | -0.09292 |  -0.10377 |   271.3     \n",
            "| 94    | -0.09171 |  -0.10135 |   274.2     \n",
            "| 95    | -0.09106 |  -0.10039 |   277.1     \n",
            "| 96    | -0.09246 |  -0.09928 |   279.9     \n",
            "| 97    | -0.09169 |  -0.10246 |   282.9     \n",
            "| 98    | -0.09101 |  -0.10206 |   285.8     \n",
            "| 99    | -0.09146 |  -0.10090 |   288.7     \n",
            "| 100   | -0.09369 |  -0.09982 |   291.6     \n",
            "| 101   | -0.09286 |  -0.09899 |   294.5     \n",
            "| 102   | -0.09212 |  -0.10036 |   297.4     \n",
            "Early stopping occured at epoch 102\n",
            "Training done in 297.366 seconds.\n",
            "---------------------------------------\n"
          ],
          "name": "stdout"
        }
      ]
    },
    {
      "cell_type": "code",
      "metadata": {
        "id": "v09NgeHg8Zx1",
        "colab_type": "code",
        "colab": {
          "base_uri": "https://localhost:8080/",
          "height": 51
        },
        "outputId": "b37b194b-be40-4277-e3ac-e3bd028aa7e5"
      },
      "source": [
        "# Deprecated : best model is automatically loaded at end of fit\n",
        "# clf.load_best_model()\n",
        "\n",
        "preds = clf.predict(X_test)\n",
        "\n",
        "y_true = y_test\n",
        "\n",
        "test_score = mean_squared_error(y_pred=preds, y_true=y_true)\n",
        "\n",
        "print(f\"BEST VALID SCORE FOR {dataset_name} : {clf.best_cost}\")\n",
        "print(f\"FINAL TEST SCORE FOR {dataset_name} : {test_score}\")"
      ],
      "execution_count": 17,
      "outputs": [
        {
          "output_type": "stream",
          "text": [
            "BEST VALID SCORE FOR census-income : 0.09718684107065201\n",
            "FINAL TEST SCORE FOR census-income : 0.1008398534155765\n"
          ],
          "name": "stdout"
        }
      ]
    },
    {
      "cell_type": "markdown",
      "metadata": {
        "id": "XGQx4RPg8Zx6",
        "colab_type": "text"
      },
      "source": [
        "# Global explainability : feat importance summing to 1"
      ]
    },
    {
      "cell_type": "code",
      "metadata": {
        "id": "fYNQ2AQZ8Zx7",
        "colab_type": "code",
        "colab": {
          "base_uri": "https://localhost:8080/",
          "height": 85
        },
        "outputId": "39e3d7b6-6e82-4feb-b114-2b6bc7284c91"
      },
      "source": [
        "clf.feature_importances_"
      ],
      "execution_count": 18,
      "outputs": [
        {
          "output_type": "execute_result",
          "data": {
            "text/plain": [
              "array([2.41163807e-07, 5.70017752e-03, 3.86150353e-03, 2.75508057e-02,\n",
              "       1.24639369e-01, 1.67086504e-01, 1.97541626e-01, 6.47483167e-02,\n",
              "       2.61175313e-02, 1.85789089e-02, 2.93305728e-01, 4.98292101e-02,\n",
              "       3.94196921e-04, 2.06458810e-02])"
            ]
          },
          "metadata": {
            "tags": []
          },
          "execution_count": 18
        }
      ]
    },
    {
      "cell_type": "markdown",
      "metadata": {
        "id": "V7G-Mh2V8Zx_",
        "colab_type": "text"
      },
      "source": [
        "# Local explainability and masks"
      ]
    },
    {
      "cell_type": "code",
      "metadata": {
        "id": "IX-UdqsP8Zx_",
        "colab_type": "code",
        "colab": {}
      },
      "source": [
        "explain_matrix, masks = clf.explain(X_test)"
      ],
      "execution_count": 19,
      "outputs": []
    },
    {
      "cell_type": "code",
      "metadata": {
        "id": "pwkegNFi8ZyC",
        "colab_type": "code",
        "colab": {}
      },
      "source": [
        "from matplotlib import pyplot as plt\n",
        "%matplotlib inline"
      ],
      "execution_count": 20,
      "outputs": []
    },
    {
      "cell_type": "code",
      "metadata": {
        "id": "RbucwSHP8ZyG",
        "colab_type": "code",
        "colab": {
          "base_uri": "https://localhost:8080/",
          "height": 1000
        },
        "outputId": "3ffa0378-2ca2-40b2-9518-e22421a15367"
      },
      "source": [
        "fig, axs = plt.subplots(1, 3, figsize=(20,20))\n",
        "\n",
        "for i in range(3):\n",
        "    axs[i].imshow(masks[i][:50])\n",
        "    axs[i].set_title(f\"mask {i}\")\n"
      ],
      "execution_count": 21,
      "outputs": [
        {
          "output_type": "display_data",
          "data": {
            "image/png": "[encoded data removed]",
            "text/plain": [
              "<Figure size 1440x1440 with 3 Axes>"
            ]
          },
          "metadata": {
            "tags": [],
            "needs_background": "light"
          }
        }
      ]
    },
    {
      "cell_type": "markdown",
      "metadata": {
        "id": "N_cjbIIO8ZyI",
        "colab_type": "text"
      },
      "source": [
        "# XGB"
      ]
    },
    {
      "cell_type": "code",
      "metadata": {
        "scrolled": true,
        "id": "gj1t5HKj8ZyJ",
        "colab_type": "code",
        "colab": {
          "base_uri": "https://localhost:8080/",
          "height": 391
        },
        "outputId": "a195b4b7-f70c-46f0-ad8f-daa4d861c8af"
      },
      "source": [
        "from xgboost import XGBRegressor\n",
        "\n",
        "clf_xgb = XGBRegressor(max_depth=8,\n",
        "    learning_rate=0.1,\n",
        "    n_estimators=1000,\n",
        "    verbosity=0,\n",
        "    silent=None,\n",
        "    objective='reg:linear',\n",
        "    booster='gbtree',\n",
        "    n_jobs=-1,\n",
        "    nthread=None,\n",
        "    gamma=0,\n",
        "    min_child_weight=1,\n",
        "    max_delta_step=0,\n",
        "    subsample=0.7,\n",
        "    colsample_bytree=1,\n",
        "    colsample_bylevel=1,\n",
        "    colsample_bynode=1,\n",
        "    reg_alpha=0,\n",
        "    reg_lambda=1,\n",
        "    scale_pos_weight=1,\n",
        "    base_score=0.5,\n",
        "    random_state=0,\n",
        "    seed=None,)\n",
        "\n",
        "clf_xgb.fit(X_train, y_train,\n",
        "        eval_set=[(X_valid, y_valid)],\n",
        "        early_stopping_rounds=40,\n",
        "        verbose=10)"
      ],
      "execution_count": 22,
      "outputs": [
        {
          "output_type": "stream",
          "text": [
            "[0]\tvalidation_0-rmse:0.469925\n",
            "Will train until validation_0-rmse hasn't improved in 40 rounds.\n",
            "[10]\tvalidation_0-rmse:0.33056\n",
            "[20]\tvalidation_0-rmse:0.302744\n",
            "[30]\tvalidation_0-rmse:0.296757\n",
            "[40]\tvalidation_0-rmse:0.295143\n",
            "[50]\tvalidation_0-rmse:0.295199\n",
            "[60]\tvalidation_0-rmse:0.294966\n",
            "[70]\tvalidation_0-rmse:0.295182\n",
            "[80]\tvalidation_0-rmse:0.295209\n",
            "[90]\tvalidation_0-rmse:0.295743\n",
            "[100]\tvalidation_0-rmse:0.295986\n",
            "Stopping. Best iteration:\n",
            "[62]\tvalidation_0-rmse:0.294846\n",
            "\n"
          ],
          "name": "stdout"
        },
        {
          "output_type": "execute_result",
          "data": {
            "text/plain": [
              "XGBRegressor(base_score=0.5, booster='gbtree', colsample_bylevel=1,\n",
              "             colsample_bynode=1, colsample_bytree=1, gamma=0,\n",
              "             importance_type='gain', learning_rate=0.1, max_delta_step=0,\n",
              "             max_depth=8, min_child_weight=1, missing=None, n_estimators=1000,\n",
              "             n_jobs=-1, nthread=None, objective='reg:linear', random_state=0,\n",
              "             reg_alpha=0, reg_lambda=1, scale_pos_weight=1, seed=None,\n",
              "             silent=None, subsample=0.7, verbosity=0)"
            ]
          },
          "metadata": {
            "tags": []
          },
          "execution_count": 22
        }
      ]
    },
    {
      "cell_type": "code",
      "metadata": {
        "id": "C0Yv0fhA8ZyM",
        "colab_type": "code",
        "colab": {
          "base_uri": "https://localhost:8080/",
          "height": 51
        },
        "outputId": "e72fcfe0-5c26-42d1-d97f-53515ee33c20"
      },
      "source": [
        "preds = np.array(clf_xgb.predict(X_valid))\n",
        "valid_auc = mean_squared_error(y_pred=preds, y_true=y_valid)\n",
        "print(valid_auc)\n",
        "\n",
        "preds = np.array(clf_xgb.predict(X_test))\n",
        "test_auc = mean_squared_error(y_pred=preds, y_true=y_test)\n",
        "print(test_auc)"
      ],
      "execution_count": 23,
      "outputs": [
        {
          "output_type": "stream",
          "text": [
            "0.08693414448412666\n",
            "0.09148940929290396\n"
          ],
          "name": "stdout"
        }
      ]
    },
    {
      "cell_type": "code",
      "metadata": {
        "id": "_1kL5T_S_W35",
        "colab_type": "code",
        "colab": {}
      },
      "source": [
        ""
      ],
      "execution_count": null,
      "outputs": []
    }
  ]
}