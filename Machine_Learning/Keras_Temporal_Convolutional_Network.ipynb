{
  "nbformat": 4,
  "nbformat_minor": 0,
  "metadata": {
    "colab": {
      "name": "Keras Temporal Convolutional Network.ipynb",
      "provenance": [],
      "collapsed_sections": [],
      "authorship_tag": "ABX9TyMep5fH71D/eIFWUc+/qzuO",
      "include_colab_link": true
    },
    "kernelspec": {
      "name": "python3",
      "display_name": "Python 3"
    }
  },
  "cells": [
    {
      "cell_type": "markdown",
      "metadata": {
        "id": "view-in-github",
        "colab_type": "text"
      },
      "source": [
        "<a href=\"https://colab.research.google.com/github/valeriocardoso/learning-area/blob/master/Machine_Learning/Keras_Temporal_Convolutional_Network.ipynb\" target=\"_parent\"><img src=\"https://colab.research.google.com/assets/colab-badge.svg\" alt=\"Open In Colab\"/></a>"
      ]
    },
    {
      "cell_type": "code",
      "metadata": {
        "id": "dWpAhMTHeYmg",
        "colab_type": "code",
        "colab": {
          "base_uri": "https://localhost:8080/",
          "height": 340
        },
        "outputId": "8070bd5f-43e9-4a86-ca37-2e5d3f8b2fc0"
      },
      "source": [
        "!pip install keras-tcn"
      ],
      "execution_count": 1,
      "outputs": [
        {
          "output_type": "stream",
          "text": [
            "Collecting keras-tcn\n",
            "  Downloading https://files.pythonhosted.org/packages/a8/5b/31eed031c196dc192eddf346f053ec6a97aefa4b931164fd8665c92a9d7d/keras_tcn-3.1.1-py3-none-any.whl\n",
            "Collecting keras==2.3.1\n",
            "\u001b[?25l  Downloading https://files.pythonhosted.org/packages/ad/fd/6bfe87920d7f4fd475acd28500a42482b6b84479832bdc0fe9e589a60ceb/Keras-2.3.1-py2.py3-none-any.whl (377kB)\n",
            "\u001b[K     |████████████████████████████████| 378kB 3.9MB/s \n",
            "\u001b[?25hRequirement already satisfied: numpy>=1.18.1 in /usr/local/lib/python3.6/dist-packages (from keras-tcn) (1.18.5)\n",
            "Collecting keras-applications>=1.0.6\n",
            "\u001b[?25l  Downloading https://files.pythonhosted.org/packages/71/e3/19762fdfc62877ae9102edf6342d71b28fbfd9dea3d2f96a882ce099b03f/Keras_Applications-1.0.8-py3-none-any.whl (50kB)\n",
            "\u001b[K     |████████████████████████████████| 51kB 5.5MB/s \n",
            "\u001b[?25hRequirement already satisfied: scipy>=0.14 in /usr/local/lib/python3.6/dist-packages (from keras==2.3.1->keras-tcn) (1.4.1)\n",
            "Requirement already satisfied: h5py in /usr/local/lib/python3.6/dist-packages (from keras==2.3.1->keras-tcn) (2.10.0)\n",
            "Requirement already satisfied: six>=1.9.0 in /usr/local/lib/python3.6/dist-packages (from keras==2.3.1->keras-tcn) (1.15.0)\n",
            "Requirement already satisfied: pyyaml in /usr/local/lib/python3.6/dist-packages (from keras==2.3.1->keras-tcn) (3.13)\n",
            "Requirement already satisfied: keras-preprocessing>=1.0.5 in /usr/local/lib/python3.6/dist-packages (from keras==2.3.1->keras-tcn) (1.1.2)\n",
            "Installing collected packages: keras-applications, keras, keras-tcn\n",
            "  Found existing installation: Keras 2.4.3\n",
            "    Uninstalling Keras-2.4.3:\n",
            "      Successfully uninstalled Keras-2.4.3\n",
            "Successfully installed keras-2.3.1 keras-applications-1.0.8 keras-tcn-3.1.1\n"
          ],
          "name": "stdout"
        }
      ]
    },
    {
      "cell_type": "code",
      "metadata": {
        "id": "JKCZgTdvemED",
        "colab_type": "code",
        "colab": {}
      },
      "source": [
        "from tensorflow.keras.layers import Dense\n",
        "from tensorflow.keras import Input, Model\n",
        "\n",
        "from tcn import TCN, tcn_full_summary"
      ],
      "execution_count": 2,
      "outputs": []
    },
    {
      "cell_type": "code",
      "metadata": {
        "id": "JrD7YJuuemUk",
        "colab_type": "code",
        "colab": {}
      },
      "source": [
        "batch_size, timesteps, input_dim = None, 20, 1\n",
        "\n",
        "\n",
        "def get_x_y(size=1000):\n",
        "    import numpy as np\n",
        "    pos_indices = np.random.choice(size, size=int(size // 2), replace=False)\n",
        "    x_train = np.zeros(shape=(size, timesteps, 1))\n",
        "    y_train = np.zeros(shape=(size, 1))\n",
        "    x_train[pos_indices, 0] = 1.0\n",
        "    y_train[pos_indices, 0] = 1.0\n",
        "    return x_train, y_train"
      ],
      "execution_count": 3,
      "outputs": []
    },
    {
      "cell_type": "code",
      "metadata": {
        "id": "3Y8wNO1qeqAz",
        "colab_type": "code",
        "colab": {}
      },
      "source": [
        "x, y = get_x_y()"
      ],
      "execution_count": 7,
      "outputs": []
    },
    {
      "cell_type": "code",
      "metadata": {
        "id": "FR1XOAb2erTF",
        "colab_type": "code",
        "colab": {}
      },
      "source": [
        "i = Input(batch_shape=(batch_size, timesteps, input_dim))"
      ],
      "execution_count": 8,
      "outputs": []
    },
    {
      "cell_type": "code",
      "metadata": {
        "id": "wp0pXpfMezsS",
        "colab_type": "code",
        "colab": {}
      },
      "source": [
        "o = TCN(return_sequences=False)(i)  # The TCN layers are here.\n",
        "o = Dense(1)(o)"
      ],
      "execution_count": 9,
      "outputs": []
    },
    {
      "cell_type": "code",
      "metadata": {
        "id": "nsnIjGzUe1P3",
        "colab_type": "code",
        "colab": {
          "base_uri": "https://localhost:8080/",
          "height": 459
        },
        "outputId": "8dad593c-cd94-4f38-a769-c5d2083951f4"
      },
      "source": [
        "m = Model(inputs=[i], outputs=[o])\n",
        "m.compile(optimizer='adam', loss='mse')\n",
        "\n",
        "tcn_full_summary(m, expand_residual_blocks=False)"
      ],
      "execution_count": 10,
      "outputs": [
        {
          "output_type": "stream",
          "text": [
            "Model: \"functional_1\"\n",
            "_________________________________________________________________\n",
            "Layer (type)                 Output Shape              Param #   \n",
            "=================================================================\n",
            "input_1 (InputLayer)         [(None, 20, 1)]           0         \n",
            "_________________________________________________________________\n",
            "residual_block_0 (ResidualBl [(None, 20, 64), (None, 2 8576      \n",
            "_________________________________________________________________\n",
            "residual_block_1 (ResidualBl [(None, 20, 64), (None, 2 16512     \n",
            "_________________________________________________________________\n",
            "residual_block_2 (ResidualBl [(None, 20, 64), (None, 2 16512     \n",
            "_________________________________________________________________\n",
            "residual_block_3 (ResidualBl [(None, 20, 64), (None, 2 16512     \n",
            "_________________________________________________________________\n",
            "residual_block_4 (ResidualBl [(None, 20, 64), (None, 2 16512     \n",
            "_________________________________________________________________\n",
            "residual_block_5 (ResidualBl [(None, 20, 64), (None, 2 16512     \n",
            "_________________________________________________________________\n",
            "lambda (Lambda)              (None, 64)                0         \n",
            "_________________________________________________________________\n",
            "dense (Dense)                (None, 1)                 65        \n",
            "=================================================================\n",
            "Total params: 91,201\n",
            "Trainable params: 91,201\n",
            "Non-trainable params: 0\n",
            "_________________________________________________________________\n"
          ],
          "name": "stdout"
        }
      ]
    },
    {
      "cell_type": "code",
      "metadata": {
        "id": "nv_cRPXXe4Qw",
        "colab_type": "code",
        "colab": {
          "base_uri": "https://localhost:8080/",
          "height": 374
        },
        "outputId": "09a23109-78ea-4765-d86f-dc08ca2e8f68"
      },
      "source": [
        "m.fit(x, y, epochs=10, validation_split=0.2)"
      ],
      "execution_count": 11,
      "outputs": [
        {
          "output_type": "stream",
          "text": [
            "Epoch 1/10\n",
            "25/25 [==============================] - 1s 56ms/step - loss: 0.0145 - val_loss: 5.4355e-05\n",
            "Epoch 2/10\n",
            "25/25 [==============================] - 1s 39ms/step - loss: 2.0348e-04 - val_loss: 3.2502e-05\n",
            "Epoch 3/10\n",
            "25/25 [==============================] - 1s 39ms/step - loss: 9.2365e-06 - val_loss: 5.4429e-07\n",
            "Epoch 4/10\n",
            "25/25 [==============================] - 1s 39ms/step - loss: 1.0062e-06 - val_loss: 8.9572e-07\n",
            "Epoch 5/10\n",
            "25/25 [==============================] - 1s 40ms/step - loss: 3.3137e-07 - val_loss: 2.5210e-07\n",
            "Epoch 6/10\n",
            "25/25 [==============================] - 1s 39ms/step - loss: 5.9332e-07 - val_loss: 1.1265e-08\n",
            "Epoch 7/10\n",
            "25/25 [==============================] - 1s 39ms/step - loss: 2.7219e-06 - val_loss: 1.0032e-05\n",
            "Epoch 8/10\n",
            "25/25 [==============================] - 1s 39ms/step - loss: 7.5033e-06 - val_loss: 3.6309e-06\n",
            "Epoch 9/10\n",
            "25/25 [==============================] - 1s 39ms/step - loss: 5.8948e-07 - val_loss: 3.4622e-10\n",
            "Epoch 10/10\n",
            "25/25 [==============================] - 1s 40ms/step - loss: 7.3291e-07 - val_loss: 2.4023e-05\n"
          ],
          "name": "stdout"
        },
        {
          "output_type": "execute_result",
          "data": {
            "text/plain": [
              "<tensorflow.python.keras.callbacks.History at 0x7f50a11c8f98>"
            ]
          },
          "metadata": {
            "tags": []
          },
          "execution_count": 11
        }
      ]
    },
    {
      "cell_type": "code",
      "metadata": {
        "id": "H4JWfVGWe7L1",
        "colab_type": "code",
        "colab": {}
      },
      "source": [
        ""
      ],
      "execution_count": null,
      "outputs": []
    }
  ]
}